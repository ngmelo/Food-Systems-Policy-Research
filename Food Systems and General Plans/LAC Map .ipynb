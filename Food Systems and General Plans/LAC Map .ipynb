{
 "cells": [
  {
   "cell_type": "markdown",
   "id": "59f131a0-acb1-45b5-be5e-682d88c25ec4",
   "metadata": {},
   "source": [
    "# Municipalities, Gardens, and Toxic Release Map"
   ]
  },
  {
   "cell_type": "code",
   "execution_count": 1,
   "id": "ac9a6bc0-48db-4396-b457-6e4638d44b28",
   "metadata": {},
   "outputs": [],
   "source": [
    "# libraries\n",
    "import pandas as pd\n",
    "import geopandas as gpd\n",
    "\n",
    "import contextily as ctx\n",
    "import matplotlib.pyplot as plt"
   ]
  },
  {
   "cell_type": "code",
   "execution_count": 23,
   "id": "667ef5a4-fe8b-4145-93b7-f9a3b0479aba",
   "metadata": {},
   "outputs": [],
   "source": [
    "# loading files\n",
    "\n",
    "# municipalities list\n",
    "munis = pd.read_csv('C:/Users/Urna6/OneDrive/Melody/GitHub/homeworks/project-ngmelo/Municipalities List.csv')\n",
    "\n",
    "# boundaries for CA municipalities\n",
    "CAcitylines = gpd.read_file('C:/Users/Urna6/OneDrive/Melody/GitHub/homeworks/project-ngmelo/CA_Places_TIGER2016.shp')\n",
    "\n",
    "# LAcitybounds \n",
    "LACcitieslines  = gpd.read_file('C:/Users/Urna6/OneDrive/Melody/GitHub/homeworks/project-ngmelo/City_Boundaries.geojson')\n",
    "# LACcitieslines  = gpd.read_file('C:/Users/Urna6/OneDrive/Melody/GitHub/homeworks/project-ngmelo/City_Boundaries_Lines.shp',  encoding=\"utf-8\")\n",
    "\n",
    "# toxic release\n",
    "toxrel = pd.read_csv('C:/Users/Urna6/OneDrive/Melody/GitHub/homeworks/project-ngmelo/2021_ca.csv')\n",
    "\n",
    "# LAC urban ag sites\n",
    "UALAC = pd.read_excel('C:/Users/Urna6/OneDrive/Melody/GitHub/homeworks/project-ngmelo/Cultivate LA sites as of 4-1-2017 (3).xlsx')"
   ]
  },
  {
   "cell_type": "code",
   "execution_count": 24,
   "id": "e5b49374-ed12-46ad-9413-c71413a29a8a",
   "metadata": {},
   "outputs": [
    {
     "data": {
      "text/html": [
       "<div>\n",
       "<style scoped>\n",
       "    .dataframe tbody tr th:only-of-type {\n",
       "        vertical-align: middle;\n",
       "    }\n",
       "\n",
       "    .dataframe tbody tr th {\n",
       "        vertical-align: top;\n",
       "    }\n",
       "\n",
       "    .dataframe thead th {\n",
       "        text-align: right;\n",
       "    }\n",
       "</style>\n",
       "<table border=\"1\" class=\"dataframe\">\n",
       "  <thead>\n",
       "    <tr style=\"text-align: right;\">\n",
       "      <th></th>\n",
       "      <th>OBJECTID</th>\n",
       "      <th>CITY_NAME</th>\n",
       "      <th>CITY_LABEL</th>\n",
       "      <th>ABBR</th>\n",
       "      <th>OF_AREA_SM</th>\n",
       "      <th>CITY_TYPE</th>\n",
       "      <th>FEAT_TYPE</th>\n",
       "      <th>COLOR_EGIS</th>\n",
       "      <th>URL</th>\n",
       "      <th>PHONE</th>\n",
       "      <th>last_edited_date</th>\n",
       "      <th>ShapeSTArea</th>\n",
       "      <th>ShapeSTLength</th>\n",
       "      <th>geometry</th>\n",
       "    </tr>\n",
       "  </thead>\n",
       "  <tbody>\n",
       "    <tr>\n",
       "      <th>0</th>\n",
       "      <td>366</td>\n",
       "      <td>Long Beach</td>\n",
       "      <td>Long Beach</td>\n",
       "      <td>LB</td>\n",
       "      <td>50.309</td>\n",
       "      <td>City</td>\n",
       "      <td>Breakwater</td>\n",
       "      <td>Purple - RGB 185,185,250</td>\n",
       "      <td>www.longbeach.gov</td>\n",
       "      <td>5625706555</td>\n",
       "      <td>2022-07-20 00:08:28+00:00</td>\n",
       "      <td>1.097324e+05</td>\n",
       "      <td>5448.776853</td>\n",
       "      <td>POLYGON ((-118.11850 33.74278, -118.11855 33.7...</td>\n",
       "    </tr>\n",
       "    <tr>\n",
       "      <th>1</th>\n",
       "      <td>367</td>\n",
       "      <td>Redondo Beach</td>\n",
       "      <td>Redondo Beach</td>\n",
       "      <td>RBCH</td>\n",
       "      <td>6.349</td>\n",
       "      <td>City</td>\n",
       "      <td>Water</td>\n",
       "      <td>Pink - RGB 255,190,232</td>\n",
       "      <td>www.redondo.org</td>\n",
       "      <td>3103721171</td>\n",
       "      <td>2022-07-20 00:08:28+00:00</td>\n",
       "      <td>4.883225e+06</td>\n",
       "      <td>21127.481570</td>\n",
       "      <td>POLYGON ((-118.39235 33.84190, -118.39238 33.8...</td>\n",
       "    </tr>\n",
       "  </tbody>\n",
       "</table>\n",
       "</div>"
      ],
      "text/plain": [
       "   OBJECTID      CITY_NAME     CITY_LABEL  ABBR  OF_AREA_SM CITY_TYPE  \\\n",
       "0       366     Long Beach     Long Beach    LB      50.309      City   \n",
       "1       367  Redondo Beach  Redondo Beach  RBCH       6.349      City   \n",
       "\n",
       "    FEAT_TYPE                COLOR_EGIS                URL       PHONE  \\\n",
       "0  Breakwater  Purple - RGB 185,185,250  www.longbeach.gov  5625706555   \n",
       "1       Water    Pink - RGB 255,190,232    www.redondo.org  3103721171   \n",
       "\n",
       "           last_edited_date   ShapeSTArea  ShapeSTLength  \\\n",
       "0 2022-07-20 00:08:28+00:00  1.097324e+05    5448.776853   \n",
       "1 2022-07-20 00:08:28+00:00  4.883225e+06   21127.481570   \n",
       "\n",
       "                                            geometry  \n",
       "0  POLYGON ((-118.11850 33.74278, -118.11855 33.7...  \n",
       "1  POLYGON ((-118.39235 33.84190, -118.39238 33.8...  "
      ]
     },
     "execution_count": 24,
     "metadata": {},
     "output_type": "execute_result"
    }
   ],
   "source": [
    "LACcitieslines.head(2)"
   ]
  },
  {
   "cell_type": "code",
   "execution_count": 32,
   "id": "b13917d9-60a5-4aba-9388-a9bf50b13978",
   "metadata": {},
   "outputs": [
    {
     "data": {
      "text/plain": [
       "<Geographic 2D CRS: EPSG:4326>\n",
       "Name: WGS 84\n",
       "Axis Info [ellipsoidal]:\n",
       "- Lat[north]: Geodetic latitude (degree)\n",
       "- Lon[east]: Geodetic longitude (degree)\n",
       "Area of Use:\n",
       "- name: World.\n",
       "- bounds: (-180.0, -90.0, 180.0, 90.0)\n",
       "Datum: World Geodetic System 1984 ensemble\n",
       "- Ellipsoid: WGS 84\n",
       "- Prime Meridian: Greenwich"
      ]
     },
     "execution_count": 32,
     "metadata": {},
     "output_type": "execute_result"
    }
   ],
   "source": [
    "# checking projection\n",
    "LACcitieslines.crs"
   ]
  },
  {
   "cell_type": "code",
   "execution_count": 25,
   "id": "cc0e002a-2e95-4082-bae2-3d9b95363607",
   "metadata": {},
   "outputs": [
    {
     "name": "stdout",
     "output_type": "stream",
     "text": [
      "<class 'geopandas.geodataframe.GeoDataFrame'>\n",
      "RangeIndex: 347 entries, 0 to 346\n",
      "Data columns (total 14 columns):\n",
      " #   Column            Non-Null Count  Dtype              \n",
      "---  ------            --------------  -----              \n",
      " 0   OBJECTID          347 non-null    int64              \n",
      " 1   CITY_NAME         347 non-null    object             \n",
      " 2   CITY_LABEL        347 non-null    object             \n",
      " 3   ABBR              347 non-null    object             \n",
      " 4   OF_AREA_SM        347 non-null    float64            \n",
      " 5   CITY_TYPE         347 non-null    object             \n",
      " 6   FEAT_TYPE         347 non-null    object             \n",
      " 7   COLOR_EGIS        347 non-null    object             \n",
      " 8   URL               347 non-null    object             \n",
      " 9   PHONE             347 non-null    object             \n",
      " 10  last_edited_date  347 non-null    datetime64[ns, UTC]\n",
      " 11  ShapeSTArea       347 non-null    float64            \n",
      " 12  ShapeSTLength     347 non-null    float64            \n",
      " 13  geometry          347 non-null    geometry           \n",
      "dtypes: datetime64[ns, UTC](1), float64(3), geometry(1), int64(1), object(8)\n",
      "memory usage: 38.1+ KB\n"
     ]
    }
   ],
   "source": [
    "LACcitieslines.info()"
   ]
  },
  {
   "cell_type": "code",
   "execution_count": 30,
   "id": "00ab5468-1e3e-4417-a2c5-6ae6e713f1e3",
   "metadata": {},
   "outputs": [
    {
     "data": {
      "text/plain": [
       "Unincorporated      190\n",
       "Los Angeles          33\n",
       "Long Beach           21\n",
       "Redondo Beach        10\n",
       "Santa Clarita         4\n",
       "                   ... \n",
       "La Verne              1\n",
       "Irwindale             1\n",
       "Norwalk               1\n",
       "Agoura Hills          1\n",
       "Hawaiian Gardens      1\n",
       "Name: CITY_NAME, Length: 89, dtype: int64"
      ]
     },
     "execution_count": 30,
     "metadata": {},
     "output_type": "execute_result"
    }
   ],
   "source": [
    "# confirming that there are 88 munis + unincorporated placesi in this geojson file\n",
    "LACcitieslines['CITY_NAME'].value_counts()"
   ]
  },
  {
   "cell_type": "code",
   "execution_count": 31,
   "id": "252986b9-8326-41f2-b0bf-3e6c1df3d81b",
   "metadata": {},
   "outputs": [
    {
     "data": {
      "text/plain": [
       "<Axes: >"
      ]
     },
     "execution_count": 31,
     "metadata": {},
     "output_type": "execute_result"
    },
    {
     "data": {
      "image/png": "[encoded data removed]",
      "text/plain": [
       "<Figure size 640x480 with 1 Axes>"
      ]
     },
     "metadata": {},
     "output_type": "display_data"
    }
   ],
   "source": [
    "# plotting\n",
    "LACcitieslines.plot()"
   ]
  },
  {
   "cell_type": "markdown",
   "id": "36e7a4a1-ac67-476d-993f-f8673b73597e",
   "metadata": {},
   "source": [
    "### Toxic Release Data (cleaning)"
   ]
  },
  {
   "cell_type": "code",
   "execution_count": null,
   "id": "41861514-6dc6-466c-8b56-0ecf9d3fe27d",
   "metadata": {},
   "outputs": [],
   "source": [
    "# inspecting\n",
    "toxrel['7. COUNTY'].value_counts()"
   ]
  },
  {
   "cell_type": "code",
   "execution_count": null,
   "id": "78e7e774-c6c1-4a28-a1fd-1fda288b3416",
   "metadata": {},
   "outputs": [],
   "source": [
    "# subsetting toxrelease data for counties of interest\n",
    "toxrelLAC = toxrel[toxrel['7. COUNTY'] == 'LOS ANGELES']\n",
    "toxrelVEN = toxrel[toxrel['7. COUNTY'] == 'VENTURA']\n",
    "toxrelSON = toxrel[toxrel['7. COUNTY'] == 'SONOMA']\n",
    "toxrelMEN= toxrel[toxrel['7. COUNTY'] == 'MENDOCINO']\n",
    "toxrelLAK= toxrel[toxrel['7. COUNTY'] == 'LAKE']\n",
    "\n",
    "# looking at LAC\n",
    "toxrelLAC.tail(3)"
   ]
  },
  {
   "cell_type": "code",
   "execution_count": null,
   "id": "f53b166d-1c6e-4228-8980-c9fad66f8a47",
   "metadata": {},
   "outputs": [],
   "source": [
    "# subset toxrelLAC\n",
    "toxrelLAC = toxrelLAC[['2. TRIFD', '4. FACILITY NAME', '5. STREET ADDRESS','6. CITY', '7. COUNTY', '10. BIA', \n",
    "                       '11. TRIBE', '12. LATITUDE',\n",
    "                       '13. LONGITUDE', '14. HORIZONTAL DATUM', '19. INDUSTRY SECTOR CODE', '20. INDUSTRY SECTOR',\n",
    "                       '27. PRIMARY NAICS', '43. CARCINOGEN', '47. UNIT OF MEASURE', '50. 5.3 - WATER', \n",
    "                       '51. 5.4 - UNDERGROUND', '52. 5.4.1 - UNDERGROUND CL I', \n",
    "                       '53. 5.4.2 - UNDERGROUND C II-V', '54. 5.5.1 - LANDFILLS', \n",
    "                       '55. 5.5.1A - RCRA C LANDFILL', '56. 5.5.1B - OTHER LANDFILLS', '57. 5.5.2 - LAND TREATMENT',\n",
    "                       '58. 5.5.3 - SURFACE IMPNDMNT','59. 5.5.3A - RCRA SURFACE IM', '60. 5.5.3B - OTHER SURFACE I', \n",
    "                       '61. 5.5.4 - OTHER DISPOSAL', '62. ON-SITE RELEASE TOTAL', '85. OFF-SITE RELEASE TOTAL',\n",
    "                       '91. OFF-SITE RECYCLED TOTAL', '101. OFF-SITE TREATED TOTAL', \n",
    "                       '116. PRODUCTION WSTE (8.1-8.7)', '117. 8.8 - ONE-TIME RELEASE']]\n",
    "toxrelLAC.tail(3)"
   ]
  },
  {
   "cell_type": "code",
   "execution_count": null,
   "id": "95946268-253c-47a2-813c-5103bb2b9e0b",
   "metadata": {},
   "outputs": [],
   "source": [
    "# convert to gdf\n",
    "# rename\n",
    "toxrelLAC.rename(columns ={ '12. LATITUDE': 'LAT', '13. LONGITUDE': 'LON'}, inplace=True)\n",
    "\n",
    "toxrelLACg = gpd.GeoDataFrame(toxrelLAC, geometry=gpd.points_from_xy(toxrelLAC.LON, toxrelLAC.LAT, \n",
    "                                          crs='EPSG:4326'))\n",
    "toxrelLACg.tail(3)"
   ]
  },
  {
   "cell_type": "code",
   "execution_count": null,
   "id": "e74910ec-b4e7-43e6-bf89-75815765f1a1",
   "metadata": {},
   "outputs": [],
   "source": [
    "# toxrelLAC column for munis\n",
    "\"6. CITY\""
   ]
  },
  {
   "cell_type": "markdown",
   "id": "9b332479-1e9b-467b-be4e-4125983c6a61",
   "metadata": {},
   "source": [
    "### Urban Agriculture Sites in Los Angeles County (cleaning)"
   ]
  },
  {
   "cell_type": "code",
   "execution_count": null,
   "id": "28e203ed-2ddc-420d-bee8-e63bc319231b",
   "metadata": {},
   "outputs": [],
   "source": [
    "# inspecting urban ag data\n",
    "UALAC.tail(3)"
   ]
  },
  {
   "cell_type": "code",
   "execution_count": null,
   "id": "26f960c8-6243-4c80-8d91-a7d2abf1d463",
   "metadata": {},
   "outputs": [],
   "source": [
    "# convert to gdf\n",
    "UALACg = gpd.GeoDataFrame(UALAC, geometry=gpd.points_from_xy(UALAC.lng, UALAC.lat, \n",
    "                                          crs='EPSG:4326'))\n",
    "UALACg.tail(3)"
   ]
  },
  {
   "cell_type": "code",
   "execution_count": null,
   "id": "b83ce257-7557-44a2-8ae9-3c30ade54429",
   "metadata": {},
   "outputs": [],
   "source": [
    "# for now, until I can geocode locations w/o coordinates, dropping locations w/o coordintes\n",
    "UALACg2 = UALACg[UALACg.lng != 0.0]\n",
    "print(UALACg.shape)\n",
    "print(UALACg2.shape)"
   ]
  },
  {
   "cell_type": "markdown",
   "id": "027dc809-cb38-46e0-ad5a-17a40df0ea0e",
   "metadata": {},
   "source": [
    "### MAP: Urban Agriculture Sites and Toxic Release Activities in Los Angeles County"
   ]
  },
  {
   "cell_type": "code",
   "execution_count": null,
   "id": "59cf9799-0414-4938-8e7c-a2f7c2d2cda6",
   "metadata": {},
   "outputs": [],
   "source": [
    "# quick plot\n",
    "fig, ax = plt.subplots(figsize=(10,10))\n",
    "\n",
    "# tox release layer\n",
    "toxrelLACg.plot(ax=ax,\n",
    "                column= '4. FACILITY NAME',\n",
    "                marker='x',\n",
    "                color='red',\n",
    "                alpha=.6,\n",
    "                legend=False)\n",
    "# urban ag layer\n",
    "UALACg2.plot(ax=ax,\n",
    "                column= 'type_',\n",
    "                marker='.',\n",
    "                cmap='Set1',\n",
    "                alpha=.4,\n",
    "                legend=True)\n",
    "# customs\n",
    "ax.axis('off')\n",
    "ax.set_title(\"Toxic Realease Facilities and Urban Agriculture in LA County\",fontsize=16, pad=10)\n",
    "\n",
    "# focusing on LA County sans Avalon\n",
    "ax.set_ylim(33.5,35)\n",
    "\n",
    "# basemap\n",
    "ctx.add_basemap(ax, crs='EPSG:4326', source=ctx.providers.CartoDB.Positron)"
   ]
  }
 ],
 "metadata": {
  "kernelspec": {
   "display_name": "Python 3 (ipykernel)",
   "language": "python",
   "name": "python3"
  },
  "language_info": {
   "codemirror_mode": {
    "name": "ipython",
    "version": 3
   },
   "file_extension": ".py",
   "mimetype": "text/x-python",
   "name": "python",
   "nbconvert_exporter": "python",
   "pygments_lexer": "ipython3",
   "version": "3.9.16"
  }
 },
 "nbformat": 4,
 "nbformat_minor": 5
}
