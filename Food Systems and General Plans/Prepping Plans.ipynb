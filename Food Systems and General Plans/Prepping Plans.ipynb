{
 "cells": [
  {
   "cell_type": "markdown",
   "id": "d8bcaccf-3b0c-4cd3-adaa-3fefdf269adc",
   "metadata": {},
   "source": [
    "### Prepping General Plan PDFs\n",
    "\n",
    "Many of the plan PDFs are large enough that I needed to split them up into separate files in order to upload them into my repository (25 MB maximum file size for uploads). These files have been saved in a separate \"General Plan Sections\" subfolder. I have to (re)merge them before I can include them in the \"General Plan\" subfolder."
   ]
  },
  {
   "cell_type": "code",
   "execution_count": 7,
   "id": "eeac8e14-1199-4443-9bd1-dbd070b817b7",
   "metadata": {},
   "outputs": [],
   "source": [
    "# libraries\n",
    "from PyPDF2 import PdfFileReader, PdfFileWriter, PdfFileMerger"
   ]
  },
  {
   "cell_type": "code",
   "execution_count": 2,
   "id": "5ff11240-016f-4644-802a-e089dfe4ea16",
   "metadata": {},
   "outputs": [],
   "source": [
    "# initializing merge\n",
    "merger = PdfFileMerger()"
   ]
  },
  {
   "cell_type": "code",
   "execution_count": 6,
   "id": "a52b2bb5-0747-49a2-9af3-0fd25bb1221e",
   "metadata": {},
   "outputs": [
    {
     "name": "stderr",
     "output_type": "stream",
     "text": [
      "C:\\Users\\Urna6\\anaconda3\\envs\\uds\\lib\\site-packages\\PyPDF2\\_utils.py:412: UserWarning: import_bookmarks is deprecated as an argument. Use import_outline instead\n",
      "  warnings.warn(\n",
      "Xref table not zero-indexed. ID numbers for objects will be corrected.\n",
      "Xref table not zero-indexed. ID numbers for objects will be corrected.\n"
     ]
    }
   ],
   "source": [
    "# Cerritos\n",
    "for pdf in [\"C:/Users/Urna6/OneDrive/Melody/GitHub/homeworks/project-ngmelo/General Plan Sections/Cerritos 1 Introduction.pdf\",\n",
    "            \"C:/Users/Urna6/OneDrive/Melody/GitHub/homeworks/project-ngmelo/General Plan Sections/Cerritos 2 Land Use.pdf\", \n",
    "            \"C:/Users/Urna6/OneDrive/Melody/GitHub/homeworks/project-ngmelo/General Plan Sections/Cerritos 3 Community Design.pdf\",\n",
    "            \"C:/Users/Urna6/OneDrive/Melody/GitHub/homeworks/project-ngmelo/General Plan Sections/Cerritos 3 Housing.pdf\",\n",
    "           \"C:/Users/Urna6/OneDrive/Melody/GitHub/homeworks/project-ngmelo/General Plan Sections/Cerritos 6 Safety.pdf\",\n",
    "           \"C:/Users/Urna6/OneDrive/Melody/GitHub/homeworks/project-ngmelo/General Plan Sections/Cerritos 7 Conservation.pdf\",\n",
    "           \"C:/Users/Urna6/OneDrive/Melody/GitHub/homeworks/project-ngmelo/General Plan Sections/Cerritos 8 Open Space.pdf\",\n",
    "           \"C:/Users/Urna6/OneDrive/Melody/GitHub/homeworks/project-ngmelo/General Plan Sections/Cerritos 9 Air Quality.pdf\",\n",
    "           \"C:/Users/Urna6/OneDrive/Melody/GitHub/homeworks/project-ngmelo/General Plan Sections/Cerritos 10 Noise.pdf\",\n",
    "           \"C:/Users/Urna6/OneDrive/Melody/GitHub/homeworks/project-ngmelo/General Plan Sections/Cerritos 11 Character.pdf\"]:\n",
    "    merger.append(pdf, import_bookmarks=False) # kept getting an error otherwise\n",
    "    \n",
    "# save\n",
    "merger.write(\"Cerritos.pdf\")\n",
    "merger.close()"
   ]
  },
  {
   "cell_type": "code",
   "execution_count": 6,
   "id": "a04972a0-4a05-4740-bd32-b23f947f2463",
   "metadata": {},
   "outputs": [
    {
     "name": "stderr",
     "output_type": "stream",
     "text": [
      "C:\\Users\\Urna6\\anaconda3\\envs\\uds\\lib\\site-packages\\PyPDF2\\_utils.py:412: UserWarning: import_bookmarks is deprecated as an argument. Use import_outline instead\n",
      "  warnings.warn(\n",
      "Xref table not zero-indexed. ID numbers for objects will be corrected.\n",
      "Xref table not zero-indexed. ID numbers for objects will be corrected.\n"
     ]
    }
   ],
   "source": [
    "# Cerritos\n",
    "for pdf in [\"C:/Users/Urna6/OneDrive/Melody/GitHub/homeworks/project-ngmelo/General Plan Sections/Cerritos 1 Introduction.pdf\",\n",
    "            \"C:/Users/Urna6/OneDrive/Melody/GitHub/homeworks/project-ngmelo/General Plan Sections/Cerritos 2 Land Use.pdf\", \n",
    "            \"C:/Users/Urna6/OneDrive/Melody/GitHub/homeworks/project-ngmelo/General Plan Sections/Cerritos 3 Community Design.pdf\",\n",
    "            \"C:/Users/Urna6/OneDrive/Melody/GitHub/homeworks/project-ngmelo/General Plan Sections/Cerritos 3 Housing.pdf\",\n",
    "           \"C:/Users/Urna6/OneDrive/Melody/GitHub/homeworks/project-ngmelo/General Plan Sections/Cerritos 6 Safety.pdf\",\n",
    "           \"C:/Users/Urna6/OneDrive/Melody/GitHub/homeworks/project-ngmelo/General Plan Sections/Cerritos 7 Conservation.pdf\",\n",
    "           \"C:/Users/Urna6/OneDrive/Melody/GitHub/homeworks/project-ngmelo/General Plan Sections/Cerritos 8 Open Space.pdf\",\n",
    "           \"C:/Users/Urna6/OneDrive/Melody/GitHub/homeworks/project-ngmelo/General Plan Sections/Cerritos 9 Air Quality.pdf\",\n",
    "           \"C:/Users/Urna6/OneDrive/Melody/GitHub/homeworks/project-ngmelo/General Plan Sections/Cerritos 10 Noise.pdf\",\n",
    "           \"C:/Users/Urna6/OneDrive/Melody/GitHub/homeworks/project-ngmelo/General Plan Sections/Cerritos 11 Character.pdf\"]:\n",
    "    merger.append(pdf, import_bookmarks=False) # kept getting an error otherwise\n",
    "    \n",
    "# save\n",
    "merger.write(\"Cerritos.pdf\")\n",
    "merger.close()"
   ]
  },
  {
   "cell_type": "code",
   "execution_count": null,
   "id": "aa2ee7e0-0b7d-4167-8ae7-ec386f83e0e1",
   "metadata": {},
   "outputs": [],
   "source": []
  }
 ],
 "metadata": {
  "kernelspec": {
   "display_name": "Python 3 (ipykernel)",
   "language": "python",
   "name": "python3"
  },
  "language_info": {
   "codemirror_mode": {
    "name": "ipython",
    "version": 3
   },
   "file_extension": ".py",
   "mimetype": "text/x-python",
   "name": "python",
   "nbconvert_exporter": "python",
   "pygments_lexer": "ipython3",
   "version": "3.9.16"
  }
 },
 "nbformat": 4,
 "nbformat_minor": 5
}
