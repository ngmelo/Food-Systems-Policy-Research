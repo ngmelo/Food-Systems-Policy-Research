{
 "cells": [
  {
   "cell_type": "markdown",
   "id": "d8bcaccf-3b0c-4cd3-adaa-3fefdf269adc",
   "metadata": {},
   "source": [
    "### Prepping General Plan PDFs\n",
    "\n",
    "Many of the plan PDFs are large enough that I needed to split them up into separate files in order to upload them into my repository (25 MB maximum file size for uploads). These files have been saved in a separate \"General Plan Sections\" subfolder. I have to (re)merge them before I can include them in the \"General Plan\" subfolder."
   ]
  },
  {
   "cell_type": "code",
   "execution_count": 33,
   "id": "eeac8e14-1199-4443-9bd1-dbd070b817b7",
   "metadata": {},
   "outputs": [],
   "source": [
    "# libraries\n",
    "from PyPDF2 import PdfFileReader, PdfFileWriter, PdfFileMerger"
   ]
  },
  {
   "cell_type": "markdown",
   "id": "a4028c98-c75f-4e64-91c2-84c7b055cf60",
   "metadata": {},
   "source": [
    "All of the sections for each plan have to be merged in specific order. For whatever reason, my device does not recognize the files unless I include the full absolute path. Moreover, out of caution, I am choosing to initialize and then close and then reinitialize the merger process to merge plan sections for each city.\n",
    "\n",
    "I am also choosing not the delete the individual section files once they have been merged, because I would like to preserve them for future element-specific analyses (e.g. Land Use elements,  Open Space and Conservation elements)."
   ]
  },
  {
   "cell_type": "code",
   "execution_count": 10,
   "id": "a04972a0-4a05-4740-bd32-b23f947f2463",
   "metadata": {},
   "outputs": [],
   "source": [
    "# Arcadia\n",
    "\n",
    "# initializing merge\n",
    "merger = PdfFileMerger()\n",
    "\n",
    "for pdf in [\"C:/Users/melod/Documents/data science/Food-Systems-Policy-Research/Food Systems and General Plans/General Plan Sections/Arcadia 1 Introduction.pdf\",\n",
    "            \"C:/Users/melod/Documents/data science/Food-Systems-Policy-Research/Food Systems and General Plans/General Plan Sections/Arcadia 2 Land Use.pdf\", \n",
    "            \"C:/Users/melod/Documents/data science/Food-Systems-Policy-Research/Food Systems and General Plans/General Plan Sections/Arcadia 3 Economic Development.pdf\",\n",
    "            \"C:/Users/melod/Documents/data science/Food-Systems-Policy-Research/Food Systems and General Plans/General Plan Sections/Arcadia 5 Housing.pdf\",\n",
    "           \"C:/Users/melod/Documents/data science/Food-Systems-Policy-Research/Food Systems and General Plans/General Plan Sections/Arcadia 6 Conservation.pdf\",\n",
    "           \"C:/Users/melod/Documents/data science/Food-Systems-Policy-Research/Food Systems and General Plans/General Plan Sections/Arcadia 7 Recreation Open Space.pdf\",\n",
    "           \"C:/Users/melod/Documents/data science/Food-Systems-Policy-Research/Food Systems and General Plans/General Plan Sections/Arcadia 8 Safety.pdf\",\n",
    "           \"C:/Users/melod/Documents/data science/Food-Systems-Policy-Research/Food Systems and General Plans/General Plan Sections/Arcadia 9 Noise.pdf\"]:\n",
    "    merger.append(pdf, import_bookmarks=False) # kept getting an error otherwise\n",
    "\n",
    "# save\n",
    "merger.write(\"Arcadia.pdf\")\n",
    "merger.close()"
   ]
  },
  {
   "cell_type": "code",
   "execution_count": 11,
   "id": "a52b2bb5-0747-49a2-9af3-0fd25bb1221e",
   "metadata": {},
   "outputs": [],
   "source": [
    "# Azusa\n",
    "\n",
    "# initializing merge\n",
    "merger = PdfFileMerger()\n",
    "\n",
    "for pdf in [\"C:/Users/melod/Documents/data science/Food-Systems-Policy-Research/Food Systems and General Plans/General Plan Sections/Azusa_Part1.pdf\",\n",
    "            \"C:/Users/melod/Documents/data science/Food-Systems-Policy-Research/Food Systems and General Plans/General Plan Sections/Azusa_Part2.pdf\", \n",
    "            \"C:/Users/melod/Documents/data science/Food-Systems-Policy-Research/Food Systems and General Plans/General Plan Sections/Azusa_Part3.pdf\",\n",
    "            \"C:/Users/melod/Documents/data science/Food-Systems-Policy-Research/Food Systems and General Plans/General Plan Sections/Azusa_Part4.pdf\",\n",
    "           \"C:/Users/melod/Documents/data science/Food-Systems-Policy-Research/Food Systems and General Plans/General Plan Sections/Azusa_Part5.pdf\"]:\n",
    "    merger.append(pdf, import_bookmarks=False) # kept getting an error otherwise\n",
    "    \n",
    "# save\n",
    "merger.write(\"Azusa.pdf\")\n",
    "merger.close()"
   ]
  },
  {
   "cell_type": "code",
   "execution_count": 13,
   "id": "6676e522-b92a-4f84-87d4-cda5850c2eff",
   "metadata": {},
   "outputs": [],
   "source": [
    "# Baldwin Park\n",
    "\n",
    "# initializing merge\n",
    "merger = PdfFileMerger()\n",
    "\n",
    "for pdf in [\"C:/Users/melod/Documents/data science/Food-Systems-Policy-Research/Food Systems and General Plans/General Plan Sections/Baldwin Park A.pdf\",\n",
    "            \"C:/Users/melod/Documents/data science/Food-Systems-Policy-Research/Food Systems and General Plans/General Plan Sections/Baldwin Park B Health and Sustainability_Part1.pdf\", \n",
    "            \"C:/Users/melod/Documents/data science/Food-Systems-Policy-Research/Food Systems and General Plans/General Plan Sections/Baldwin Park B Health and Sustainability_Part2.pdf\"]:\n",
    "    merger.append(pdf, import_bookmarks=False) # kept getting an error otherwise\n",
    "    \n",
    "# save\n",
    "merger.write(\"Baldwin Park.pdf\")\n",
    "merger.close()"
   ]
  },
  {
   "cell_type": "code",
   "execution_count": 15,
   "id": "ef39c615-dfa8-471e-8a46-2832752e697a",
   "metadata": {},
   "outputs": [],
   "source": [
    "# Bellflower\n",
    "\n",
    "# initializing merge\n",
    "merger = PdfFileMerger()\n",
    "\n",
    "for pdf in [\"C:/Users/melod/Documents/data science/Food-Systems-Policy-Research/Food Systems and General Plans/General Plan Sections/Bellflower 1 Introduction.pdf\",\n",
    "            \"C:/Users/melod/Documents/data science/Food-Systems-Policy-Research/Food Systems and General Plans/General Plan Sections/Bellflower 2 Land Use.pdf\", \n",
    "            \"C:/Users/melod/Documents/data science/Food-Systems-Policy-Research/Food Systems and General Plans/General Plan Sections/Bellflower 4 Housing.pdf\",\n",
    "           \"C:/Users/melod/Documents/data science/Food-Systems-Policy-Research/Food Systems and General Plans/General Plan Sections/Bellflower 6 Safety.pdf\",\n",
    "           \"C:/Users/melod/Documents/data science/Food-Systems-Policy-Research/Food Systems and General Plans/General Plan Sections/Bellflower 7 Noise.pdf\"]:\n",
    "    merger.append(pdf, import_bookmarks=False) # kept getting an error otherwise\n",
    "    \n",
    "# save\n",
    "merger.write(\"Bellflower.pdf\")\n",
    "merger.close()"
   ]
  },
  {
   "cell_type": "code",
   "execution_count": 16,
   "id": "a2167c2c-6d7a-4709-b4f9-fa4e554e4b13",
   "metadata": {},
   "outputs": [
    {
     "name": "stderr",
     "output_type": "stream",
     "text": [
      "Xref table not zero-indexed. ID numbers for objects will be corrected.\n"
     ]
    }
   ],
   "source": [
    "# Beverly Hills\n",
    "\n",
    "# initializing merge\n",
    "merger = PdfFileMerger()\n",
    "\n",
    "for pdf in [\"C:/Users/melod/Documents/data science/Food-Systems-Policy-Research/Food Systems and General Plans/General Plan Sections/Beverly Hill 1 Introduction.pdf\",\n",
    "            \"C:/Users/melod/Documents/data science/Food-Systems-Policy-Research/Food Systems and General Plans/General Plan Sections/Beverly Hills 2 Land Use.pdf\", \n",
    "            \"C:/Users/melod/Documents/data science/Food-Systems-Policy-Research/Food Systems and General Plans/General Plan Sections/Beverly Hills 3 Character.pdf\",\n",
    "           \"C:/Users/melod/Documents/data science/Food-Systems-Policy-Research/Food Systems and General Plans/General Plan Sections/Beverly Hills 4 Economic Development.pdf\",\n",
    "           \"C:/Users/melod/Documents/data science/Food-Systems-Policy-Research/Food Systems and General Plans/General Plan Sections/Beverly Hills 5 Open Space.pdf\",\n",
    "           \"C:/Users/melod/Documents/data science/Food-Systems-Policy-Research/Food Systems and General Plans/General Plan Sections/Beverly Hills 7 Conservation.pdf\",\n",
    "           \"C:/Users/melod/Documents/data science/Food-Systems-Policy-Research/Food Systems and General Plans/General Plan Sections/Beverly Hills 8 Noise.pdf\",\n",
    "           \"C:/Users/melod/Documents/data science/Food-Systems-Policy-Research/Food Systems and General Plans/General Plan Sections/Beverly Hills 9A Safety.pdf\",\n",
    "           \"C:/Users/melod/Documents/data science/Food-Systems-Policy-Research/Food Systems and General Plans/General Plan Sections/Beverly Hills 9B Hazard.pdf\",\n",
    "           \"C:/Users/melod/Documents/data science/Food-Systems-Policy-Research/Food Systems and General Plans/General Plan Sections/Beverly Hills 10 Public Services.pdf\",\n",
    "           \"C:/Users/melod/Documents/data science/Food-Systems-Policy-Research/Food Systems and General Plans/General Plan Sections/Beverly Hills 11 Housing.pdf\",\n",
    "           \"C:/Users/melod/Documents/data science/Food-Systems-Policy-Research/Food Systems and General Plans/General Plan Sections/Beverly Hills 12 Implementation Programs.pdf\"]:\n",
    "    merger.append(pdf, import_bookmarks=False) # kept getting an error otherwise\n",
    "    \n",
    "# save\n",
    "merger.write(\"Beverly Hills.pdf\")\n",
    "merger.close()"
   ]
  },
  {
   "cell_type": "code",
   "execution_count": 17,
   "id": "3b1250d2-14aa-4da3-9e43-9ebda39da0fc",
   "metadata": {},
   "outputs": [],
   "source": [
    "# Bradbury\n",
    "\n",
    "# initializing merge\n",
    "merger = PdfFileMerger()\n",
    "\n",
    "for pdf in [\"C:/Users/melod/Documents/data science/Food-Systems-Policy-Research/Food Systems and General Plans/General Plan Sections/Bradbury_Part1.pdf\",\n",
    "            \"C:/Users/melod/Documents/data science/Food-Systems-Policy-Research/Food Systems and General Plans/General Plan Sections/Bradbury_Part2.pdf\", \n",
    "            \"C:/Users/melod/Documents/data science/Food-Systems-Policy-Research/Food Systems and General Plans/General Plan Sections/Bradbury_Part3.pdf\",\n",
    "           \"C:/Users/melod/Documents/data science/Food-Systems-Policy-Research/Food Systems and General Plans/General Plan Sections/Bradbury_Part4.pdf\",\n",
    "           \"C:/Users/melod/Documents/data science/Food-Systems-Policy-Research/Food Systems and General Plans/General Plan Sections/Bradbury_Part5.pdf\"]:\n",
    "    merger.append(pdf, import_bookmarks=False) # kept getting an error otherwise\n",
    "    \n",
    "# save\n",
    "merger.write(\"Bradbury.pdf\")\n",
    "merger.close()"
   ]
  },
  {
   "cell_type": "code",
   "execution_count": 18,
   "id": "0685ece4-9698-43ac-8f42-c729c262a370",
   "metadata": {},
   "outputs": [],
   "source": [
    "# Calabasas\n",
    "\n",
    "# initializing merge\n",
    "merger = PdfFileMerger()\n",
    "\n",
    "for pdf in [\"C:/Users/melod/Documents/data science/Food-Systems-Policy-Research/Food Systems and General Plans/General Plan Sections/Calabasas_Part1.pdf\",\n",
    "            \"C:/Users/melod/Documents/data science/Food-Systems-Policy-Research/Food Systems and General Plans/General Plan Sections/Calabasas_Part2.pdf\"]:\n",
    "    merger.append(pdf, import_bookmarks=False) # kept getting an error otherwise\n",
    "    \n",
    "# save\n",
    "merger.write(\"Calabasas.pdf\")\n",
    "merger.close()"
   ]
  },
  {
   "cell_type": "code",
   "execution_count": 19,
   "id": "4979944b-10f9-420d-9ccc-e9a8fc452c4b",
   "metadata": {},
   "outputs": [
    {
     "name": "stderr",
     "output_type": "stream",
     "text": [
      "Xref table not zero-indexed. ID numbers for objects will be corrected.\n",
      "Xref table not zero-indexed. ID numbers for objects will be corrected.\n",
      "Xref table not zero-indexed. ID numbers for objects will be corrected.\n",
      "Xref table not zero-indexed. ID numbers for objects will be corrected.\n"
     ]
    }
   ],
   "source": [
    "# Camarillo\n",
    "\n",
    "# initializing merge\n",
    "merger = PdfFileMerger()\n",
    "\n",
    "for pdf in [\"C:/Users/melod/Documents/data science/Food-Systems-Policy-Research/Food Systems and General Plans/General Plan Sections/Camarillo 2 Background.pdf\",\n",
    "            \"C:/Users/melod/Documents/data science/Food-Systems-Policy-Research/Food Systems and General Plans/General Plan Sections/Camarillo 2 Character.pdf\",\n",
    "           \"C:/Users/melod/Documents/data science/Food-Systems-Policy-Research/Food Systems and General Plans/General Plan Sections/Camarillo 4 Land Use.pdf\",\n",
    "            \"C:/Users/melod/Documents/data science/Food-Systems-Policy-Research/Food Systems and General Plans/General Plan Sections/Camarillo 7 Housing.pdf\",\n",
    "           \"C:/Users/melod/Documents/data science/Food-Systems-Policy-Research/Food Systems and General Plans/General Plan Sections/Camarillo 8 Recreation.pdf\",\n",
    "            \"C:/Users/melod/Documents/data science/Food-Systems-Policy-Research/Food Systems and General Plans/General Plan Sections/Camarillo 9 Open Space Conservation.pdf\",\n",
    "           \"C:/Users/melod/Documents/data science/Food-Systems-Policy-Research/Food Systems and General Plans/General Plan Sections/Camarillo 10 Character_Part1.pdf\",\n",
    "            \"C:/Users/melod/Documents/data science/Food-Systems-Policy-Research/Food Systems and General Plans/General Plan Sections/Camarillo 10 Character_Part2.pdf\",\n",
    "           \"C:/Users/melod/Documents/data science/Food-Systems-Policy-Research/Food Systems and General Plans/General Plan Sections/Camarillo 11 Safety.pdf\",\n",
    "            \"C:/Users/melod/Documents/data science/Food-Systems-Policy-Research/Food Systems and General Plans/General Plan Sections/Camarillo 12 Noise.pdf\"]:\n",
    "    merger.append(pdf, import_bookmarks=False) # kept getting an error otherwise\n",
    "    \n",
    "# save\n",
    "merger.write(\"Camarillo.pdf\")\n",
    "merger.close()"
   ]
  },
  {
   "cell_type": "code",
   "execution_count": 20,
   "id": "ecfb87c5-3afe-40d2-84f3-8f8c27553267",
   "metadata": {},
   "outputs": [],
   "source": [
    "# Carson\n",
    "\n",
    "# initializing merge\n",
    "merger = PdfFileMerger()\n",
    "\n",
    "for pdf in [\"C:/Users/melod/Documents/data science/Food-Systems-Policy-Research/Food Systems and General Plans/General Plan Sections/Carson_Part1.pdf\",\n",
    "            \"C:/Users/melod/Documents/data science/Food-Systems-Policy-Research/Food Systems and General Plans/General Plan Sections/Carson_Part2.pdf\",\n",
    "           \"C:/Users/melod/Documents/data science/Food-Systems-Policy-Research/Food Systems and General Plans/General Plan Sections/Carson_Part3.pdf\",\n",
    "            \"C:/Users/melod/Documents/data science/Food-Systems-Policy-Research/Food Systems and General Plans/General Plan Sections/Carson_Part4.pdf\",\n",
    "           \"C:/Users/melod/Documents/data science/Food-Systems-Policy-Research/Food Systems and General Plans/General Plan Sections/Carson_Part5.pdf\",\n",
    "            \"C:/Users/melod/Documents/data science/Food-Systems-Policy-Research/Food Systems and General Plans/General Plan Sections/Carson_Part6.pdf\",\n",
    "           \"C:/Users/melod/Documents/data science/Food-Systems-Policy-Research/Food Systems and General Plans/General Plan Sections/Carson_Part7.pdf\"]:\n",
    "    merger.append(pdf, import_bookmarks=False) # kept getting an error otherwise\n",
    "    \n",
    "# save\n",
    "merger.write(\"Carson.pdf\")\n",
    "merger.close()"
   ]
  },
  {
   "cell_type": "code",
   "execution_count": 12,
   "id": "b14f0a03-a770-4882-b258-c1a0bf97f328",
   "metadata": {},
   "outputs": [
    {
     "name": "stderr",
     "output_type": "stream",
     "text": [
      "Xref table not zero-indexed. ID numbers for objects will be corrected.\n",
      "Xref table not zero-indexed. ID numbers for objects will be corrected.\n"
     ]
    }
   ],
   "source": [
    "# Cerritos\n",
    "\n",
    "# initializing merge\n",
    "merger = PdfFileMerger()\n",
    "\n",
    "for pdf in [\"C:/Users/melod/Documents/data science/Food-Systems-Policy-Research/Food Systems and General Plans/General Plan Sections/Cerritos 1 Introduction.pdf\",\n",
    "            \"C:/Users/melod/Documents/data science/Food-Systems-Policy-Research/Food Systems and General Plans/General Plan Sections/Cerritos 2 Land Use.pdf\", \n",
    "            \"C:/Users/melod/Documents/data science/Food-Systems-Policy-Research/Food Systems and General Plans/General Plan Sections/Cerritos 3 Community Design.pdf\",\n",
    "            \"C:/Users/melod/Documents/data science/Food-Systems-Policy-Research/Food Systems and General Plans/General Plan Sections/Cerritos 3 Housing.pdf\",\n",
    "           \"C:/Users/melod/Documents/data science/Food-Systems-Policy-Research/Food Systems and General Plans/General Plan Sections/Cerritos 6 Safety.pdf\",\n",
    "           \"C:/Users/melod/Documents/data science/Food-Systems-Policy-Research/Food Systems and General Plans/General Plan Sections/Cerritos 7 Conservation.pdf\",\n",
    "           \"C:/Users/melod/Documents/data science/Food-Systems-Policy-Research/Food Systems and General Plans/General Plan Sections/Cerritos 8 Open Space.pdf\",\n",
    "           \"C:/Users/melod/Documents/data science/Food-Systems-Policy-Research/Food Systems and General Plans/General Plan Sections/Cerritos 9 Air Quality.pdf\",\n",
    "           \"C:/Users/melod/Documents/data science/Food-Systems-Policy-Research/Food Systems and General Plans/General Plan Sections/Cerritos 10 Noise.pdf\",\n",
    "           \"C:/Users/melod/Documents/data science/Food-Systems-Policy-Research/Food Systems and General Plans/General Plan Sections/Cerritos 11 Character.pdf\"]:\n",
    "    merger.append(pdf, import_bookmarks=False) # kept getting an error otherwise\n",
    "    \n",
    "# save\n",
    "merger.write(\"Cerritos.pdf\")\n",
    "merger.close()"
   ]
  },
  {
   "cell_type": "code",
   "execution_count": 23,
   "id": "56687133-2a52-43eb-a29a-1186d2f4962f",
   "metadata": {},
   "outputs": [],
   "source": [
    "# Claremont\n",
    "\n",
    "# initializing merge\n",
    "merger = PdfFileMerger()\n",
    "\n",
    "for pdf in [\"C:/Users/melod/Documents/data science/Food-Systems-Policy-Research/Food Systems and General Plans/General Plan Sections/Claremont 1 Introduction.pdf\",\n",
    "            \"C:/Users/melod/Documents/data science/Food-Systems-Policy-Research/Food Systems and General Plans/General Plan Sections/Claremont 2 Land Use Character.pdf\",\n",
    "           \"C:/Users/melod/Documents/data science/Food-Systems-Policy-Research/Food Systems and General Plans/General Plan Sections/Claremont 3 Economic Development.pdf\",\n",
    "            \"C:/Users/melod/Documents/data science/Food-Systems-Policy-Research/Food Systems and General Plans/General Plan Sections/Claremont 5 Open Space Conservation.pdf\",\n",
    "           \"C:/Users/melod/Documents/data science/Food-Systems-Policy-Research/Food Systems and General Plans/General Plan Sections/Claremont 6 Public Safety Noise.pdf\",\n",
    "            \"C:/Users/melod/Documents/data science/Food-Systems-Policy-Research/Food Systems and General Plans/General Plan Sections/Claremont 7 Recreation.pdf\",\n",
    "           \"C:/Users/melod/Documents/data science/Food-Systems-Policy-Research/Food Systems and General Plans/General Plan Sections/Claremont 9 Governance.pdf\"]:\n",
    "    merger.append(pdf, import_bookmarks=False) # kept getting an error otherwise\n",
    "    \n",
    "# save\n",
    "merger.write(\"Claremont.pdf\")\n",
    "merger.close()"
   ]
  },
  {
   "cell_type": "code",
   "execution_count": 24,
   "id": "08275915-7fa8-4018-bb46-981fd893771e",
   "metadata": {},
   "outputs": [],
   "source": [
    "# Cudahy\n",
    "\n",
    "# initializing merge\n",
    "merger = PdfFileMerger()\n",
    "\n",
    "for pdf in [\"C:/Users/melod/Documents/data science/Food-Systems-Policy-Research/Food Systems and General Plans/General Plan Sections/Cudahy_Part1.pdf\",\n",
    "            \"C:/Users/melod/Documents/data science/Food-Systems-Policy-Research/Food Systems and General Plans/General Plan Sections/Cudahy_Part2.pdf\",\n",
    "           \"C:/Users/melod/Documents/data science/Food-Systems-Policy-Research/Food Systems and General Plans/General Plan Sections/Cudahy_Part3.pdf\",\n",
    "            \"C:/Users/melod/Documents/data science/Food-Systems-Policy-Research/Food Systems and General Plans/General Plan Sections/Cudahy_Part4.pdf\"]:\n",
    "    merger.append(pdf, import_bookmarks=False) # kept getting an error otherwise\n",
    "    \n",
    "# save\n",
    "merger.write(\"Cudahy.pdf\")\n",
    "merger.close()"
   ]
  },
  {
   "cell_type": "code",
   "execution_count": 26,
   "id": "89133e8c-29c4-4673-8203-f67deb0c2498",
   "metadata": {},
   "outputs": [
    {
     "ename": "KeyboardInterrupt",
     "evalue": "",
     "output_type": "error",
     "traceback": [
      "\u001b[1;31m---------------------------------------------------------------------------\u001b[0m",
      "\u001b[1;31mKeyboardInterrupt\u001b[0m                         Traceback (most recent call last)",
      "Cell \u001b[1;32mIn[26], line 17\u001b[0m\n\u001b[0;32m     14\u001b[0m     merger\u001b[38;5;241m.\u001b[39mappend(pdf, import_bookmarks\u001b[38;5;241m=\u001b[39m\u001b[38;5;28;01mFalse\u001b[39;00m) \u001b[38;5;66;03m# kept getting an error otherwise\u001b[39;00m\n\u001b[0;32m     16\u001b[0m \u001b[38;5;66;03m# save\u001b[39;00m\n\u001b[1;32m---> 17\u001b[0m \u001b[43mmerger\u001b[49m\u001b[38;5;241;43m.\u001b[39;49m\u001b[43mwrite\u001b[49m\u001b[43m(\u001b[49m\u001b[38;5;124;43m\"\u001b[39;49m\u001b[38;5;124;43mDiamond Bar.pdf\u001b[39;49m\u001b[38;5;124;43m\"\u001b[39;49m\u001b[43m)\u001b[49m\n\u001b[0;32m     18\u001b[0m merger\u001b[38;5;241m.\u001b[39mclose()\n",
      "File \u001b[1;32m~\\Programs\\envs\\uds\\lib\\site-packages\\PyPDF2\\_merger.py:312\u001b[0m, in \u001b[0;36mPdfMerger.write\u001b[1;34m(self, fileobj)\u001b[0m\n\u001b[0;32m    309\u001b[0m \u001b[38;5;28mself\u001b[39m\u001b[38;5;241m.\u001b[39m_write_outline()\n\u001b[0;32m    311\u001b[0m \u001b[38;5;66;03m# Write the output to the file\u001b[39;00m\n\u001b[1;32m--> 312\u001b[0m my_file, ret_fileobj \u001b[38;5;241m=\u001b[39m \u001b[38;5;28;43mself\u001b[39;49m\u001b[38;5;241;43m.\u001b[39;49m\u001b[43moutput\u001b[49m\u001b[38;5;241;43m.\u001b[39;49m\u001b[43mwrite\u001b[49m\u001b[43m(\u001b[49m\u001b[43mfileobj\u001b[49m\u001b[43m)\u001b[49m\n\u001b[0;32m    314\u001b[0m \u001b[38;5;28;01mif\u001b[39;00m my_file:\n\u001b[0;32m    315\u001b[0m     ret_fileobj\u001b[38;5;241m.\u001b[39mclose()\n",
      "File \u001b[1;32m~\\Programs\\envs\\uds\\lib\\site-packages\\PyPDF2\\_writer.py:841\u001b[0m, in \u001b[0;36mPdfWriter.write\u001b[1;34m(self, stream)\u001b[0m\n\u001b[0;32m    838\u001b[0m     stream \u001b[38;5;241m=\u001b[39m FileIO(stream, \u001b[38;5;124m\"\u001b[39m\u001b[38;5;124mwb\u001b[39m\u001b[38;5;124m\"\u001b[39m)\n\u001b[0;32m    839\u001b[0m     my_file \u001b[38;5;241m=\u001b[39m \u001b[38;5;28;01mTrue\u001b[39;00m\n\u001b[1;32m--> 841\u001b[0m \u001b[38;5;28;43mself\u001b[39;49m\u001b[38;5;241;43m.\u001b[39;49m\u001b[43mwrite_stream\u001b[49m\u001b[43m(\u001b[49m\u001b[43mstream\u001b[49m\u001b[43m)\u001b[49m\n\u001b[0;32m    843\u001b[0m \u001b[38;5;28;01mif\u001b[39;00m \u001b[38;5;28mself\u001b[39m\u001b[38;5;241m.\u001b[39mwith_as_usage:\n\u001b[0;32m    844\u001b[0m     stream\u001b[38;5;241m.\u001b[39mclose()\n",
      "File \u001b[1;32m~\\Programs\\envs\\uds\\lib\\site-packages\\PyPDF2\\_writer.py:814\u001b[0m, in \u001b[0;36mPdfWriter.write_stream\u001b[1;34m(self, stream)\u001b[0m\n\u001b[0;32m    804\u001b[0m     \u001b[38;5;28mself\u001b[39m\u001b[38;5;241m.\u001b[39m_root \u001b[38;5;241m=\u001b[39m \u001b[38;5;28mself\u001b[39m\u001b[38;5;241m.\u001b[39m_add_object(\u001b[38;5;28mself\u001b[39m\u001b[38;5;241m.\u001b[39m_root_object)\n\u001b[0;32m    806\u001b[0m \u001b[38;5;66;03m# PDF objects sometimes have circular references to their /Page objects\u001b[39;00m\n\u001b[0;32m    807\u001b[0m \u001b[38;5;66;03m# inside their object tree (for example, annotations).  Those will be\u001b[39;00m\n\u001b[0;32m    808\u001b[0m \u001b[38;5;66;03m# indirect references to objects that we've recreated in this PDF.  To\u001b[39;00m\n\u001b[1;32m   (...)\u001b[0m\n\u001b[0;32m    812\u001b[0m \u001b[38;5;66;03m# trees to reference the correct new object location, rather than\u001b[39;00m\n\u001b[0;32m    813\u001b[0m \u001b[38;5;66;03m# copying in a new copy of the page object.\u001b[39;00m\n\u001b[1;32m--> 814\u001b[0m \u001b[38;5;28;43mself\u001b[39;49m\u001b[38;5;241;43m.\u001b[39;49m\u001b[43m_sweep_indirect_references\u001b[49m\u001b[43m(\u001b[49m\u001b[38;5;28;43mself\u001b[39;49m\u001b[38;5;241;43m.\u001b[39;49m\u001b[43m_root\u001b[49m\u001b[43m)\u001b[49m\n\u001b[0;32m    816\u001b[0m object_positions \u001b[38;5;241m=\u001b[39m \u001b[38;5;28mself\u001b[39m\u001b[38;5;241m.\u001b[39m_write_header(stream)\n\u001b[0;32m    817\u001b[0m xref_location \u001b[38;5;241m=\u001b[39m \u001b[38;5;28mself\u001b[39m\u001b[38;5;241m.\u001b[39m_write_xref_table(stream, object_positions)\n",
      "File \u001b[1;32m~\\Programs\\envs\\uds\\lib\\site-packages\\PyPDF2\\_writer.py:980\u001b[0m, in \u001b[0;36mPdfWriter._sweep_indirect_references\u001b[1;34m(self, root)\u001b[0m\n\u001b[0;32m    978\u001b[0m \u001b[38;5;66;03m# Data changed and thus the hash value changed\u001b[39;00m\n\u001b[0;32m    979\u001b[0m \u001b[38;5;28;01mif\u001b[39;00m parent[key_or_id] \u001b[38;5;241m!=\u001b[39m data:\n\u001b[1;32m--> 980\u001b[0m     update_hashes \u001b[38;5;241m=\u001b[39m [\u001b[43mparent\u001b[49m\u001b[38;5;241;43m.\u001b[39;49m\u001b[43mhash_value\u001b[49m\u001b[43m(\u001b[49m\u001b[43m)\u001b[49m] \u001b[38;5;241m+\u001b[39m [\n\u001b[0;32m    981\u001b[0m         grant_parent\u001b[38;5;241m.\u001b[39mhash_value() \u001b[38;5;28;01mfor\u001b[39;00m grant_parent \u001b[38;5;129;01min\u001b[39;00m grant_parents\n\u001b[0;32m    982\u001b[0m     ]\n\u001b[0;32m    983\u001b[0m     parent[key_or_id] \u001b[38;5;241m=\u001b[39m data\n\u001b[0;32m    985\u001b[0m \u001b[38;5;66;03m# Update old hash value to new hash value\u001b[39;00m\n",
      "File \u001b[1;32m~\\Programs\\envs\\uds\\lib\\site-packages\\PyPDF2\\generic\\_base.py:65\u001b[0m, in \u001b[0;36mPdfObject.hash_value\u001b[1;34m(self)\u001b[0m\n\u001b[0;32m     60\u001b[0m \u001b[38;5;28;01mdef\u001b[39;00m \u001b[38;5;21mhash_value\u001b[39m(\u001b[38;5;28mself\u001b[39m) \u001b[38;5;241m-\u001b[39m\u001b[38;5;241m>\u001b[39m \u001b[38;5;28mbytes\u001b[39m:\n\u001b[0;32m     61\u001b[0m     \u001b[38;5;28;01mreturn\u001b[39;00m (\n\u001b[0;32m     62\u001b[0m         \u001b[38;5;124m\"\u001b[39m\u001b[38;5;132;01m%s\u001b[39;00m\u001b[38;5;124m:\u001b[39m\u001b[38;5;132;01m%s\u001b[39;00m\u001b[38;5;124m\"\u001b[39m\n\u001b[0;32m     63\u001b[0m         \u001b[38;5;241m%\u001b[39m (\n\u001b[0;32m     64\u001b[0m             \u001b[38;5;28mself\u001b[39m\u001b[38;5;241m.\u001b[39m\u001b[38;5;18m__class__\u001b[39m\u001b[38;5;241m.\u001b[39m\u001b[38;5;18m__name__\u001b[39m,\n\u001b[1;32m---> 65\u001b[0m             \u001b[38;5;28;43mself\u001b[39;49m\u001b[38;5;241;43m.\u001b[39;49m\u001b[43mhash_func\u001b[49m\u001b[43m(\u001b[49m\u001b[38;5;28;43mself\u001b[39;49m\u001b[38;5;241;43m.\u001b[39;49m\u001b[43mhash_value_data\u001b[49m\u001b[43m(\u001b[49m\u001b[43m)\u001b[49m\u001b[43m)\u001b[49m\u001b[38;5;241m.\u001b[39mhexdigest(),\n\u001b[0;32m     66\u001b[0m         )\n\u001b[0;32m     67\u001b[0m     )\u001b[38;5;241m.\u001b[39mencode()\n",
      "\u001b[1;31mKeyboardInterrupt\u001b[0m: "
     ]
    }
   ],
   "source": [
    "# Diamond Bar\n",
    "\n",
    "# initializing merge\n",
    "merger = PdfFileMerger()\n",
    "\n",
    "for pdf in [\"C:/Users/melod/Documents/data science/Food-Systems-Policy-Research/Food Systems and General Plans/General Plan Sections/Diamond Bar_Part1.pdf\",\n",
    "            \"C:/Users/melod/Documents/data science/Food-Systems-Policy-Research/Food Systems and General Plans/General Plan Sections/Diamond Bar_Part2.pdf\",\n",
    "            \"C:/Users/melod/Documents/data science/Food-Systems-Policy-Research/Food Systems and General Plans/General Plan Sections/Diamond Bar_Part3.pdf\",\n",
    "            \"C:/Users/melod/Documents/data science/Food-Systems-Policy-Research/Food Systems and General Plans/General Plan Sections/Diamond Bar_Part4.pdf\",\n",
    "            \"C:/Users/melod/Documents/data science/Food-Systems-Policy-Research/Food Systems and General Plans/General Plan Sections/Diamond Bar_Part5.pdf\",\n",
    "            \"C:/Users/melod/Documents/data science/Food-Systems-Policy-Research/Food Systems and General Plans/General Plan Sections/Diamond Bar_Part6.pdf\",\n",
    "            \"C:/Users/melod/Documents/data science/Food-Systems-Policy-Research/Food Systems and General Plans/General Plan Sections/Diamond Bar_Part7.pdf\",\n",
    "            \"C:/Users/melod/Documents/data science/Food-Systems-Policy-Research/Food Systems and General Plans/General Plan Sections/Diamond Bar_Part8.pdf\"]:\n",
    "    merger.append(pdf, import_bookmarks=False) # kept getting an error otherwise\n",
    "    \n",
    "# save\n",
    "merger.write(\"Diamond Bar.pdf\")\n",
    "merger.close()"
   ]
  },
  {
   "cell_type": "code",
   "execution_count": 30,
   "id": "439272d9-c051-42eb-808e-2d04e4514b71",
   "metadata": {
    "collapsed": true,
    "jupyter": {
     "outputs_hidden": true
    },
    "tags": []
   },
   "outputs": [
    {
     "name": "stderr",
     "output_type": "stream",
     "text": [
      "Superfluous whitespace found in object header b'129' b'0'\n",
      "Superfluous whitespace found in object header b'11' b'0'\n",
      "Superfluous whitespace found in object header b'10' b'0'\n",
      "Superfluous whitespace found in object header b'9' b'0'\n",
      "Superfluous whitespace found in object header b'7' b'0'\n",
      "Superfluous whitespace found in object header b'8' b'0'\n",
      "Superfluous whitespace found in object header b'6' b'0'\n",
      "Superfluous whitespace found in object header b'5' b'0'\n",
      "Superfluous whitespace found in object header b'4' b'0'\n",
      "Superfluous whitespace found in object header b'27' b'0'\n",
      "Superfluous whitespace found in object header b'26' b'0'\n",
      "Superfluous whitespace found in object header b'25' b'0'\n",
      "Superfluous whitespace found in object header b'23' b'0'\n",
      "Superfluous whitespace found in object header b'24' b'0'\n",
      "Superfluous whitespace found in object header b'22' b'0'\n",
      "Superfluous whitespace found in object header b'21' b'0'\n",
      "Superfluous whitespace found in object header b'20' b'0'\n",
      "Superfluous whitespace found in object header b'128' b'0'\n",
      "Superfluous whitespace found in object header b'126' b'0'\n",
      "Superfluous whitespace found in object header b'125' b'0'\n",
      "Superfluous whitespace found in object header b'123' b'0'\n",
      "Superfluous whitespace found in object header b'122' b'0'\n",
      "Superfluous whitespace found in object header b'120' b'0'\n",
      "Superfluous whitespace found in object header b'119' b'0'\n",
      "Superfluous whitespace found in object header b'117' b'0'\n",
      "Superfluous whitespace found in object header b'116' b'0'\n",
      "Superfluous whitespace found in object header b'114' b'0'\n",
      "Superfluous whitespace found in object header b'113' b'0'\n",
      "Superfluous whitespace found in object header b'111' b'0'\n",
      "Superfluous whitespace found in object header b'110' b'0'\n",
      "Superfluous whitespace found in object header b'108' b'0'\n",
      "Superfluous whitespace found in object header b'97' b'0'\n",
      "Superfluous whitespace found in object header b'96' b'0'\n",
      "Superfluous whitespace found in object header b'95' b'0'\n",
      "Superfluous whitespace found in object header b'93' b'0'\n",
      "Superfluous whitespace found in object header b'94' b'0'\n",
      "Superfluous whitespace found in object header b'92' b'0'\n",
      "Superfluous whitespace found in object header b'91' b'0'\n",
      "Superfluous whitespace found in object header b'90' b'0'\n",
      "Superfluous whitespace found in object header b'107' b'0'\n",
      "Superfluous whitespace found in object header b'105' b'0'\n",
      "Superfluous whitespace found in object header b'104' b'0'\n",
      "Superfluous whitespace found in object header b'102' b'0'\n",
      "Superfluous whitespace found in object header b'101' b'0'\n",
      "Superfluous whitespace found in object header b'99' b'0'\n",
      "Superfluous whitespace found in object header b'98' b'0'\n",
      "Superfluous whitespace found in object header b'88' b'0'\n",
      "Superfluous whitespace found in object header b'87' b'0'\n",
      "Superfluous whitespace found in object header b'85' b'0'\n",
      "Superfluous whitespace found in object header b'84' b'0'\n",
      "Superfluous whitespace found in object header b'82' b'0'\n",
      "Superfluous whitespace found in object header b'81' b'0'\n",
      "Superfluous whitespace found in object header b'79' b'0'\n",
      "Superfluous whitespace found in object header b'77' b'0'\n",
      "Superfluous whitespace found in object header b'76' b'0'\n",
      "Superfluous whitespace found in object header b'75' b'0'\n",
      "Superfluous whitespace found in object header b'73' b'0'\n",
      "Superfluous whitespace found in object header b'74' b'0'\n",
      "Superfluous whitespace found in object header b'72' b'0'\n",
      "Superfluous whitespace found in object header b'71' b'0'\n",
      "Superfluous whitespace found in object header b'70' b'0'\n",
      "Superfluous whitespace found in object header b'78' b'0'\n",
      "Superfluous whitespace found in object header b'68' b'0'\n",
      "Superfluous whitespace found in object header b'67' b'0'\n",
      "Superfluous whitespace found in object header b'65' b'0'\n",
      "Superfluous whitespace found in object header b'64' b'0'\n",
      "Superfluous whitespace found in object header b'62' b'0'\n",
      "Superfluous whitespace found in object header b'61' b'0'\n",
      "Superfluous whitespace found in object header b'59' b'0'\n",
      "Superfluous whitespace found in object header b'58' b'0'\n",
      "Superfluous whitespace found in object header b'56' b'0'\n",
      "Superfluous whitespace found in object header b'55' b'0'\n",
      "Superfluous whitespace found in object header b'53' b'0'\n",
      "Superfluous whitespace found in object header b'52' b'0'\n",
      "Superfluous whitespace found in object header b'50' b'0'\n",
      "Superfluous whitespace found in object header b'49' b'0'\n",
      "Superfluous whitespace found in object header b'47' b'0'\n",
      "Superfluous whitespace found in object header b'46' b'0'\n",
      "Superfluous whitespace found in object header b'44' b'0'\n",
      "Superfluous whitespace found in object header b'43' b'0'\n",
      "Superfluous whitespace found in object header b'41' b'0'\n",
      "Superfluous whitespace found in object header b'40' b'0'\n",
      "Superfluous whitespace found in object header b'38' b'0'\n",
      "Superfluous whitespace found in object header b'37' b'0'\n",
      "Superfluous whitespace found in object header b'35' b'0'\n",
      "Superfluous whitespace found in object header b'34' b'0'\n",
      "Superfluous whitespace found in object header b'32' b'0'\n",
      "Superfluous whitespace found in object header b'31' b'0'\n",
      "Superfluous whitespace found in object header b'29' b'0'\n",
      "Superfluous whitespace found in object header b'19' b'0'\n",
      "Superfluous whitespace found in object header b'18' b'0'\n",
      "Superfluous whitespace found in object header b'17' b'0'\n",
      "Superfluous whitespace found in object header b'15' b'0'\n",
      "Superfluous whitespace found in object header b'16' b'0'\n",
      "Superfluous whitespace found in object header b'14' b'0'\n",
      "Superfluous whitespace found in object header b'13' b'0'\n",
      "Superfluous whitespace found in object header b'12' b'0'\n",
      "Superfluous whitespace found in object header b'28' b'0'\n"
     ]
    }
   ],
   "source": [
    "# El Segundo\n",
    "\n",
    "# initializing merge\n",
    "merger = PdfFileMerger()\n",
    "\n",
    "for pdf in [\"C:/Users/melod/Documents/data science/Food-Systems-Policy-Research/Food Systems and General Plans/General Plan Sections/El Segundo 1 Introduction.pdf\",\n",
    "            \"C:/Users/melod/Documents/data science/Food-Systems-Policy-Research/Food Systems and General Plans/General Plan Sections/El Segundo 2 Economic Development.pdf\",\n",
    "           \"C:/Users/melod/Documents/data science/Food-Systems-Policy-Research/Food Systems and General Plans/General Plan Sections/El Segundo 3 Land Use.pdf\",\n",
    "            \"C:/Users/melod/Documents/data science/Food-Systems-Policy-Research/Food Systems and General Plans/General Plan Sections/El Segundo 5 Housing.pdf\",\n",
    "           \"C:/Users/melod/Documents/data science/Food-Systems-Policy-Research/Food Systems and General Plans/General Plan Sections/El Segundo 6 Open Space Recreation.pdf\",\n",
    "           \"C:/Users/melod/Documents/data science/Food-Systems-Policy-Research/Food Systems and General Plans/General Plan Sections/El Segundo 7 Conservation.pdf\",\n",
    "           \"C:/Users/melod/Documents/data science/Food-Systems-Policy-Research/Food Systems and General Plans/General Plan Sections/El Segundo 8 Air Quality.pdf\",\n",
    "           \"C:/Users/melod/Documents/data science/Food-Systems-Policy-Research/Food Systems and General Plans/General Plan Sections/El Segundo 9 Noise.pdf\",\n",
    "           \"C:/Users/melod/Documents/data science/Food-Systems-Policy-Research/Food Systems and General Plans/General Plan Sections/El Segundo 10 Public Safety.pdf\",\n",
    "           \"C:/Users/melod/Documents/data science/Food-Systems-Policy-Research/Food Systems and General Plans/General Plan Sections/El Segundo 11 Hazards.pdf\"]:\n",
    "    merger.append(pdf, import_bookmarks=False) # kept getting an error otherwise\n",
    "    \n",
    "# save\n",
    "merger.write(\"El Segundo.pdf\")\n",
    "merger.close()"
   ]
  },
  {
   "cell_type": "code",
   "execution_count": 32,
   "id": "9e9d6ca0-16b7-48c9-aa97-a09376b61f73",
   "metadata": {
    "tags": []
   },
   "outputs": [
    {
     "name": "stderr",
     "output_type": "stream",
     "text": [
      "Xref table not zero-indexed. ID numbers for objects will be corrected.\n",
      "Xref table not zero-indexed. ID numbers for objects will be corrected.\n",
      "Xref table not zero-indexed. ID numbers for objects will be corrected.\n",
      "Xref table not zero-indexed. ID numbers for objects will be corrected.\n",
      "Xref table not zero-indexed. ID numbers for objects will be corrected.\n",
      "Superfluous whitespace found in object header b'1' b'0'\n",
      "Superfluous whitespace found in object header b'2' b'0'\n",
      "Superfluous whitespace found in object header b'3' b'0'\n",
      "Superfluous whitespace found in object header b'32' b'0'\n",
      "Superfluous whitespace found in object header b'46' b'0'\n",
      "Superfluous whitespace found in object header b'57' b'0'\n",
      "Superfluous whitespace found in object header b'60' b'0'\n",
      "Superfluous whitespace found in object header b'63' b'0'\n",
      "Superfluous whitespace found in object header b'66' b'0'\n",
      "Superfluous whitespace found in object header b'77' b'0'\n",
      "Superfluous whitespace found in object header b'83' b'0'\n",
      "Superfluous whitespace found in object header b'94' b'0'\n",
      "Superfluous whitespace found in object header b'97' b'0'\n",
      "Superfluous whitespace found in object header b'101' b'0'\n",
      "Superfluous whitespace found in object header b'104' b'0'\n",
      "Superfluous whitespace found in object header b'107' b'0'\n",
      "Superfluous whitespace found in object header b'121' b'0'\n",
      "Superfluous whitespace found in object header b'125' b'0'\n",
      "Superfluous whitespace found in object header b'128' b'0'\n",
      "Superfluous whitespace found in object header b'141' b'0'\n",
      "Superfluous whitespace found in object header b'144' b'0'\n",
      "Xref table not zero-indexed. ID numbers for objects will be corrected.\n"
     ]
    },
    {
     "ename": "KeyboardInterrupt",
     "evalue": "",
     "output_type": "error",
     "traceback": [
      "\u001b[1;31m---------------------------------------------------------------------------\u001b[0m",
      "\u001b[1;31mKeyboardInterrupt\u001b[0m                         Traceback (most recent call last)",
      "Cell \u001b[1;32mIn[32], line 20\u001b[0m\n\u001b[0;32m     17\u001b[0m     merger\u001b[38;5;241m.\u001b[39mappend(pdf, import_bookmarks\u001b[38;5;241m=\u001b[39m\u001b[38;5;28;01mFalse\u001b[39;00m) \u001b[38;5;66;03m# kept getting an error otherwise\u001b[39;00m\n\u001b[0;32m     19\u001b[0m \u001b[38;5;66;03m# save\u001b[39;00m\n\u001b[1;32m---> 20\u001b[0m \u001b[43mmerger\u001b[49m\u001b[38;5;241;43m.\u001b[39;49m\u001b[43mwrite\u001b[49m\u001b[43m(\u001b[49m\u001b[38;5;124;43m\"\u001b[39;49m\u001b[38;5;124;43mGardena.pdf\u001b[39;49m\u001b[38;5;124;43m\"\u001b[39;49m\u001b[43m)\u001b[49m\n\u001b[0;32m     21\u001b[0m merger\u001b[38;5;241m.\u001b[39mclose()\n",
      "File \u001b[1;32m~\\Programs\\envs\\uds\\lib\\site-packages\\PyPDF2\\_merger.py:312\u001b[0m, in \u001b[0;36mPdfMerger.write\u001b[1;34m(self, fileobj)\u001b[0m\n\u001b[0;32m    309\u001b[0m \u001b[38;5;28mself\u001b[39m\u001b[38;5;241m.\u001b[39m_write_outline()\n\u001b[0;32m    311\u001b[0m \u001b[38;5;66;03m# Write the output to the file\u001b[39;00m\n\u001b[1;32m--> 312\u001b[0m my_file, ret_fileobj \u001b[38;5;241m=\u001b[39m \u001b[38;5;28;43mself\u001b[39;49m\u001b[38;5;241;43m.\u001b[39;49m\u001b[43moutput\u001b[49m\u001b[38;5;241;43m.\u001b[39;49m\u001b[43mwrite\u001b[49m\u001b[43m(\u001b[49m\u001b[43mfileobj\u001b[49m\u001b[43m)\u001b[49m\n\u001b[0;32m    314\u001b[0m \u001b[38;5;28;01mif\u001b[39;00m my_file:\n\u001b[0;32m    315\u001b[0m     ret_fileobj\u001b[38;5;241m.\u001b[39mclose()\n",
      "File \u001b[1;32m~\\Programs\\envs\\uds\\lib\\site-packages\\PyPDF2\\_writer.py:841\u001b[0m, in \u001b[0;36mPdfWriter.write\u001b[1;34m(self, stream)\u001b[0m\n\u001b[0;32m    838\u001b[0m     stream \u001b[38;5;241m=\u001b[39m FileIO(stream, \u001b[38;5;124m\"\u001b[39m\u001b[38;5;124mwb\u001b[39m\u001b[38;5;124m\"\u001b[39m)\n\u001b[0;32m    839\u001b[0m     my_file \u001b[38;5;241m=\u001b[39m \u001b[38;5;28;01mTrue\u001b[39;00m\n\u001b[1;32m--> 841\u001b[0m \u001b[38;5;28;43mself\u001b[39;49m\u001b[38;5;241;43m.\u001b[39;49m\u001b[43mwrite_stream\u001b[49m\u001b[43m(\u001b[49m\u001b[43mstream\u001b[49m\u001b[43m)\u001b[49m\n\u001b[0;32m    843\u001b[0m \u001b[38;5;28;01mif\u001b[39;00m \u001b[38;5;28mself\u001b[39m\u001b[38;5;241m.\u001b[39mwith_as_usage:\n\u001b[0;32m    844\u001b[0m     stream\u001b[38;5;241m.\u001b[39mclose()\n",
      "File \u001b[1;32m~\\Programs\\envs\\uds\\lib\\site-packages\\PyPDF2\\_writer.py:814\u001b[0m, in \u001b[0;36mPdfWriter.write_stream\u001b[1;34m(self, stream)\u001b[0m\n\u001b[0;32m    804\u001b[0m     \u001b[38;5;28mself\u001b[39m\u001b[38;5;241m.\u001b[39m_root \u001b[38;5;241m=\u001b[39m \u001b[38;5;28mself\u001b[39m\u001b[38;5;241m.\u001b[39m_add_object(\u001b[38;5;28mself\u001b[39m\u001b[38;5;241m.\u001b[39m_root_object)\n\u001b[0;32m    806\u001b[0m \u001b[38;5;66;03m# PDF objects sometimes have circular references to their /Page objects\u001b[39;00m\n\u001b[0;32m    807\u001b[0m \u001b[38;5;66;03m# inside their object tree (for example, annotations).  Those will be\u001b[39;00m\n\u001b[0;32m    808\u001b[0m \u001b[38;5;66;03m# indirect references to objects that we've recreated in this PDF.  To\u001b[39;00m\n\u001b[1;32m   (...)\u001b[0m\n\u001b[0;32m    812\u001b[0m \u001b[38;5;66;03m# trees to reference the correct new object location, rather than\u001b[39;00m\n\u001b[0;32m    813\u001b[0m \u001b[38;5;66;03m# copying in a new copy of the page object.\u001b[39;00m\n\u001b[1;32m--> 814\u001b[0m \u001b[38;5;28;43mself\u001b[39;49m\u001b[38;5;241;43m.\u001b[39;49m\u001b[43m_sweep_indirect_references\u001b[49m\u001b[43m(\u001b[49m\u001b[38;5;28;43mself\u001b[39;49m\u001b[38;5;241;43m.\u001b[39;49m\u001b[43m_root\u001b[49m\u001b[43m)\u001b[49m\n\u001b[0;32m    816\u001b[0m object_positions \u001b[38;5;241m=\u001b[39m \u001b[38;5;28mself\u001b[39m\u001b[38;5;241m.\u001b[39m_write_header(stream)\n\u001b[0;32m    817\u001b[0m xref_location \u001b[38;5;241m=\u001b[39m \u001b[38;5;28mself\u001b[39m\u001b[38;5;241m.\u001b[39m_write_xref_table(stream, object_positions)\n",
      "File \u001b[1;32m~\\Programs\\envs\\uds\\lib\\site-packages\\PyPDF2\\_writer.py:980\u001b[0m, in \u001b[0;36mPdfWriter._sweep_indirect_references\u001b[1;34m(self, root)\u001b[0m\n\u001b[0;32m    978\u001b[0m \u001b[38;5;66;03m# Data changed and thus the hash value changed\u001b[39;00m\n\u001b[0;32m    979\u001b[0m \u001b[38;5;28;01mif\u001b[39;00m parent[key_or_id] \u001b[38;5;241m!=\u001b[39m data:\n\u001b[1;32m--> 980\u001b[0m     update_hashes \u001b[38;5;241m=\u001b[39m [parent\u001b[38;5;241m.\u001b[39mhash_value()] \u001b[38;5;241m+\u001b[39m [\n\u001b[0;32m    981\u001b[0m         grant_parent\u001b[38;5;241m.\u001b[39mhash_value() \u001b[38;5;28;01mfor\u001b[39;00m grant_parent \u001b[38;5;129;01min\u001b[39;00m grant_parents\n\u001b[0;32m    982\u001b[0m     ]\n\u001b[0;32m    983\u001b[0m     parent[key_or_id] \u001b[38;5;241m=\u001b[39m data\n\u001b[0;32m    985\u001b[0m \u001b[38;5;66;03m# Update old hash value to new hash value\u001b[39;00m\n",
      "File \u001b[1;32m~\\Programs\\envs\\uds\\lib\\site-packages\\PyPDF2\\_writer.py:981\u001b[0m, in \u001b[0;36m<listcomp>\u001b[1;34m(.0)\u001b[0m\n\u001b[0;32m    978\u001b[0m \u001b[38;5;66;03m# Data changed and thus the hash value changed\u001b[39;00m\n\u001b[0;32m    979\u001b[0m \u001b[38;5;28;01mif\u001b[39;00m parent[key_or_id] \u001b[38;5;241m!=\u001b[39m data:\n\u001b[0;32m    980\u001b[0m     update_hashes \u001b[38;5;241m=\u001b[39m [parent\u001b[38;5;241m.\u001b[39mhash_value()] \u001b[38;5;241m+\u001b[39m [\n\u001b[1;32m--> 981\u001b[0m         \u001b[43mgrant_parent\u001b[49m\u001b[38;5;241;43m.\u001b[39;49m\u001b[43mhash_value\u001b[49m\u001b[43m(\u001b[49m\u001b[43m)\u001b[49m \u001b[38;5;28;01mfor\u001b[39;00m grant_parent \u001b[38;5;129;01min\u001b[39;00m grant_parents\n\u001b[0;32m    982\u001b[0m     ]\n\u001b[0;32m    983\u001b[0m     parent[key_or_id] \u001b[38;5;241m=\u001b[39m data\n\u001b[0;32m    985\u001b[0m \u001b[38;5;66;03m# Update old hash value to new hash value\u001b[39;00m\n",
      "File \u001b[1;32m~\\Programs\\envs\\uds\\lib\\site-packages\\PyPDF2\\generic\\_base.py:65\u001b[0m, in \u001b[0;36mPdfObject.hash_value\u001b[1;34m(self)\u001b[0m\n\u001b[0;32m     60\u001b[0m \u001b[38;5;28;01mdef\u001b[39;00m \u001b[38;5;21mhash_value\u001b[39m(\u001b[38;5;28mself\u001b[39m) \u001b[38;5;241m-\u001b[39m\u001b[38;5;241m>\u001b[39m \u001b[38;5;28mbytes\u001b[39m:\n\u001b[0;32m     61\u001b[0m     \u001b[38;5;28;01mreturn\u001b[39;00m (\n\u001b[0;32m     62\u001b[0m         \u001b[38;5;124m\"\u001b[39m\u001b[38;5;132;01m%s\u001b[39;00m\u001b[38;5;124m:\u001b[39m\u001b[38;5;132;01m%s\u001b[39;00m\u001b[38;5;124m\"\u001b[39m\n\u001b[0;32m     63\u001b[0m         \u001b[38;5;241m%\u001b[39m (\n\u001b[0;32m     64\u001b[0m             \u001b[38;5;28mself\u001b[39m\u001b[38;5;241m.\u001b[39m\u001b[38;5;18m__class__\u001b[39m\u001b[38;5;241m.\u001b[39m\u001b[38;5;18m__name__\u001b[39m,\n\u001b[1;32m---> 65\u001b[0m             \u001b[38;5;28mself\u001b[39m\u001b[38;5;241m.\u001b[39mhash_func(\u001b[38;5;28;43mself\u001b[39;49m\u001b[38;5;241;43m.\u001b[39;49m\u001b[43mhash_value_data\u001b[49m\u001b[43m(\u001b[49m\u001b[43m)\u001b[49m)\u001b[38;5;241m.\u001b[39mhexdigest(),\n\u001b[0;32m     66\u001b[0m         )\n\u001b[0;32m     67\u001b[0m     )\u001b[38;5;241m.\u001b[39mencode()\n",
      "File \u001b[1;32m~\\Programs\\envs\\uds\\lib\\site-packages\\PyPDF2\\_page.py:302\u001b[0m, in \u001b[0;36mPageObject.hash_value_data\u001b[1;34m(self)\u001b[0m\n\u001b[0;32m    301\u001b[0m \u001b[38;5;28;01mdef\u001b[39;00m \u001b[38;5;21mhash_value_data\u001b[39m(\u001b[38;5;28mself\u001b[39m) \u001b[38;5;241m-\u001b[39m\u001b[38;5;241m>\u001b[39m \u001b[38;5;28mbytes\u001b[39m:\n\u001b[1;32m--> 302\u001b[0m     data \u001b[38;5;241m=\u001b[39m \u001b[38;5;28;43msuper\u001b[39;49m\u001b[43m(\u001b[49m\u001b[43m)\u001b[49m\u001b[38;5;241;43m.\u001b[39;49m\u001b[43mhash_value_data\u001b[49m\u001b[43m(\u001b[49m\u001b[43m)\u001b[49m\n\u001b[0;32m    303\u001b[0m     data \u001b[38;5;241m+\u001b[39m\u001b[38;5;241m=\u001b[39m \u001b[38;5;124mb\u001b[39m\u001b[38;5;124m\"\u001b[39m\u001b[38;5;132;01m%d\u001b[39;00m\u001b[38;5;124m\"\u001b[39m \u001b[38;5;241m%\u001b[39m \u001b[38;5;28mid\u001b[39m(\u001b[38;5;28mself\u001b[39m)\n\u001b[0;32m    304\u001b[0m     \u001b[38;5;28;01mreturn\u001b[39;00m data\n",
      "File \u001b[1;32m~\\Programs\\envs\\uds\\lib\\site-packages\\PyPDF2\\generic\\_base.py:58\u001b[0m, in \u001b[0;36mPdfObject.hash_value_data\u001b[1;34m(self)\u001b[0m\n\u001b[0;32m     57\u001b[0m \u001b[38;5;28;01mdef\u001b[39;00m \u001b[38;5;21mhash_value_data\u001b[39m(\u001b[38;5;28mself\u001b[39m) \u001b[38;5;241m-\u001b[39m\u001b[38;5;241m>\u001b[39m \u001b[38;5;28mbytes\u001b[39m:\n\u001b[1;32m---> 58\u001b[0m     \u001b[38;5;28;01mreturn\u001b[39;00m (\u001b[38;5;124;43m\"\u001b[39;49m\u001b[38;5;132;43;01m%s\u001b[39;49;00m\u001b[38;5;124;43m\"\u001b[39;49m\u001b[43m \u001b[49m\u001b[38;5;241;43m%\u001b[39;49m\u001b[43m \u001b[49m\u001b[38;5;28;43mself\u001b[39;49m)\u001b[38;5;241m.\u001b[39mencode()\n",
      "File \u001b[1;32m~\\Programs\\envs\\uds\\lib\\site-packages\\PyPDF2\\generic\\_base.py:170\u001b[0m, in \u001b[0;36mIndirectObject.__repr__\u001b[1;34m(self)\u001b[0m\n\u001b[0;32m    169\u001b[0m \u001b[38;5;28;01mdef\u001b[39;00m \u001b[38;5;21m__repr__\u001b[39m(\u001b[38;5;28mself\u001b[39m) \u001b[38;5;241m-\u001b[39m\u001b[38;5;241m>\u001b[39m \u001b[38;5;28mstr\u001b[39m:\n\u001b[1;32m--> 170\u001b[0m     \u001b[38;5;28;01mreturn\u001b[39;00m \u001b[38;5;124mf\u001b[39m\u001b[38;5;124m\"\u001b[39m\u001b[38;5;124mIndirectObject(\u001b[39m\u001b[38;5;132;01m{\u001b[39;00m\u001b[38;5;28;43mself\u001b[39;49m\u001b[38;5;241;43m.\u001b[39;49m\u001b[43midnum\u001b[49m\u001b[38;5;132;01m!r}\u001b[39;00m\u001b[38;5;124m, \u001b[39m\u001b[38;5;132;01m{\u001b[39;00m\u001b[38;5;28mself\u001b[39m\u001b[38;5;241m.\u001b[39mgeneration\u001b[38;5;132;01m!r}\u001b[39;00m\u001b[38;5;124m, \u001b[39m\u001b[38;5;132;01m{\u001b[39;00m\u001b[38;5;28mid\u001b[39m(\u001b[38;5;28mself\u001b[39m\u001b[38;5;241m.\u001b[39mpdf)\u001b[38;5;132;01m}\u001b[39;00m\u001b[38;5;124m)\u001b[39m\u001b[38;5;124m\"\u001b[39m\n",
      "\u001b[1;31mKeyboardInterrupt\u001b[0m: "
     ]
    }
   ],
   "source": [
    "# Gardena\n",
    "\n",
    "# initializing merge\n",
    "merger = PdfFileMerger()\n",
    "\n",
    "for pdf in [\"C:/Users/melod/Documents/data science/Food-Systems-Policy-Research/Food Systems and General Plans/General Plan Sections/Gardena 1 Introduction.pdf\",\n",
    "            \"C:/Users/melod/Documents/data science/Food-Systems-Policy-Research/Food Systems and General Plans/General Plan Sections/Gardena 2 Land Use.pdf\",\n",
    "           \"C:/Users/melod/Documents/data science/Food-Systems-Policy-Research/Food Systems and General Plans/General Plan Sections/Gardena 3 Economic Development.pdf\",\n",
    "            \"C:/Users/melod/Documents/data science/Food-Systems-Policy-Research/Food Systems and General Plans/General Plan Sections/Gardena 4 Community Design.pdf\",\n",
    "           \"C:/Users/melod/Documents/data science/Food-Systems-Policy-Research/Food Systems and General Plans/General Plan Sections/Gardena 5 Housing_Part1.pdf\",\n",
    "           \"C:/Users/melod/Documents/data science/Food-Systems-Policy-Research/Food Systems and General Plans/General Plan Sections/Gardena 5 Housing_Part2.pdf\",\n",
    "           \"C:/Users/melod/Documents/data science/Food-Systems-Policy-Research/Food Systems and General Plans/General Plan Sections/Gardena 6 EJ.pdf\",\n",
    "           \"C:/Users/melod/Documents/data science/Food-Systems-Policy-Research/Food Systems and General Plans/General Plan Sections/Gardena 7 Open Space.pdf\",\n",
    "           \"C:/Users/melod/Documents/data science/Food-Systems-Policy-Research/Food Systems and General Plans/General Plan Sections/Gardena 8 Conservation.pdf\",\n",
    "           \"C:/Users/melod/Documents/data science/Food-Systems-Policy-Research/Food Systems and General Plans/General Plan Sections/Gardena 9 Public Safety.pdf\",\n",
    "           \"C:/Users/melod/Documents/data science/Food-Systems-Policy-Research/Food Systems and General Plans/General Plan Sections/Gardena 10 Noise.pdf\"]:\n",
    "    merger.append(pdf, import_bookmarks=False) # kept getting an error otherwise\n",
    "    \n",
    "# save\n",
    "merger.write(\"Gardena.pdf\")\n",
    "merger.close()"
   ]
  },
  {
   "cell_type": "code",
   "execution_count": 34,
   "id": "ddc3c901-3aa5-47a0-b8ef-1f290ae256a2",
   "metadata": {
    "tags": []
   },
   "outputs": [],
   "source": [
    "# Glendale\n",
    "\n",
    "# initializing merge\n",
    "merger = PdfFileMerger()\n",
    "\n",
    "for pdf in [\"C:/Users/melod/Documents/data science/Food-Systems-Policy-Research/Food Systems and General Plans/General Plan Sections/Glendale_Part1.pdf\",\n",
    "            \"C:/Users/melod/Documents/data science/Food-Systems-Policy-Research/Food Systems and General Plans/General Plan Sections/Glendale_Part2.pdf\",\n",
    "           \"C:/Users/melod/Documents/data science/Food-Systems-Policy-Research/Food Systems and General Plans/General Plan Sections/Glendale_Part3.pdf\",\n",
    "            \"C:/Users/melod/Documents/data science/Food-Systems-Policy-Research/Food Systems and General Plans/General Plan Sections/Glendale_Part4.pdf\",\n",
    "           \"C:/Users/melod/Documents/data science/Food-Systems-Policy-Research/Food Systems and General Plans/General Plan Sections/Glendale_Part5.pdf\",\n",
    "           \"C:/Users/melod/Documents/data science/Food-Systems-Policy-Research/Food Systems and General Plans/General Plan Sections/Glendale_Part6.pdf\",\n",
    "           \"C:/Users/melod/Documents/data science/Food-Systems-Policy-Research/Food Systems and General Plans/General Plan Sections/Glendale_Part7.pdf\",\n",
    "           \"C:/Users/melod/Documents/data science/Food-Systems-Policy-Research/Food Systems and General Plans/General Plan Sections/Glendale_Part8.pdf\"]:\n",
    "    merger.append(pdf, import_bookmarks=False) # kept getting an error otherwise\n",
    "    \n",
    "# save\n",
    "merger.write(\"Glendale.pdf\")\n",
    "merger.close()"
   ]
  },
  {
   "cell_type": "code",
   "execution_count": 35,
   "id": "8e0d249e-4f43-4dff-b812-1cf3d276a461",
   "metadata": {
    "tags": []
   },
   "outputs": [
    {
     "name": "stderr",
     "output_type": "stream",
     "text": [
      "Xref table not zero-indexed. ID numbers for objects will be corrected.\n",
      "Xref table not zero-indexed. ID numbers for objects will be corrected.\n"
     ]
    }
   ],
   "source": [
    "# Hawthorne\n",
    "\n",
    "# initializing merge\n",
    "merger = PdfFileMerger()\n",
    "\n",
    "for pdf in [\"C:/Users/melod/Documents/data science/Food-Systems-Policy-Research/Food Systems and General Plans/General Plan Sections/Hawthorne 1 Land Use.pdf\",\n",
    "            \"C:/Users/melod/Documents/data science/Food-Systems-Policy-Research/Food Systems and General Plans/General Plan Sections/Hawthorne 2 Housing.pdf\",\n",
    "           \"C:/Users/melod/Documents/data science/Food-Systems-Policy-Research/Food Systems and General Plans/General Plan Sections/Hawthorne 3 Open Space.pdf\",\n",
    "            \"C:/Users/melod/Documents/data science/Food-Systems-Policy-Research/Food Systems and General Plans/General Plan Sections/Hawthorne 3 Conservation.pdf\",\n",
    "           \"C:/Users/melod/Documents/data science/Food-Systems-Policy-Research/Food Systems and General Plans/General Plan Sections/Hawthorne 4 Economic Development.pdf\",\n",
    "           \"C:/Users/melod/Documents/data science/Food-Systems-Policy-Research/Food Systems and General Plans/General Plan Sections/Hawthorne 5 Safety.pdf\",\n",
    "           \"C:/Users/melod/Documents/data science/Food-Systems-Policy-Research/Food Systems and General Plans/General Plan Sections/Hawthorne 6 Noise.pdf\",\n",
    "           \"C:/Users/melod/Documents/data science/Food-Systems-Policy-Research/Food Systems and General Plans/General Plan Sections/hawthorne 7 EJ.pdf\"]:\n",
    "    merger.append(pdf, import_bookmarks=False) # kept getting an error otherwise\n",
    "    \n",
    "# save\n",
    "merger.write(\"Hawthorne.pdf\")\n",
    "merger.close()"
   ]
  },
  {
   "cell_type": "code",
   "execution_count": 36,
   "id": "f6e2413e-f50a-4da7-8498-5771a57839a7",
   "metadata": {
    "tags": []
   },
   "outputs": [],
   "source": [
    "# Hidden Hills\n",
    "\n",
    "# initializing merge\n",
    "merger = PdfFileMerger()\n",
    "\n",
    "for pdf in [\"C:/Users/melod/Documents/data science/Food-Systems-Policy-Research/Food Systems and General Plans/General Plan Sections/Hidden Hills_Part1.pdf\",\n",
    "            \"C:/Users/melod/Documents/data science/Food-Systems-Policy-Research/Food Systems and General Plans/General Plan Sections/Hidden Hills_Part2.pdf\"]:\n",
    "    merger.append(pdf, import_bookmarks=False) # kept getting an error otherwise\n",
    "    \n",
    "# save\n",
    "merger.write(\"Hidden Hills.pdf\")\n",
    "merger.close()"
   ]
  },
  {
   "cell_type": "code",
   "execution_count": 37,
   "id": "69d33d9c-1154-41c2-b17a-9beded843c6c",
   "metadata": {
    "tags": []
   },
   "outputs": [],
   "source": [
    "# Huntington Park\n",
    "\n",
    "# initializing merge\n",
    "merger = PdfFileMerger()\n",
    "\n",
    "for pdf in [\"C:/Users/melod/Documents/data science/Food-Systems-Policy-Research/Food Systems and General Plans/General Plan Sections/Huntington Park_Part1.pdf\",\n",
    "            \"C:/Users/melod/Documents/data science/Food-Systems-Policy-Research/Food Systems and General Plans/General Plan Sections/Huntington Park_Part2.pdf\",\n",
    "           \"C:/Users/melod/Documents/data science/Food-Systems-Policy-Research/Food Systems and General Plans/General Plan Sections/Huntington Park_Part3.pdf\",\n",
    "           \"C:/Users/melod/Documents/data science/Food-Systems-Policy-Research/Food Systems and General Plans/General Plan Sections/Huntington Park_Part4.pdf\"]:\n",
    "    merger.append(pdf, import_bookmarks=False) # kept getting an error otherwise\n",
    "    \n",
    "# save\n",
    "merger.write(\"Huntington Park.pdf\")\n",
    "merger.close()"
   ]
  },
  {
   "cell_type": "code",
   "execution_count": 42,
   "id": "1576e7af-4410-49a2-a6bf-048cbe325355",
   "metadata": {
    "tags": []
   },
   "outputs": [],
   "source": [
    "# Inglewood\n",
    "\n",
    "# initializing merge\n",
    "merger = PdfFileMerger()\n",
    "\n",
    "for pdf in [\"C:/Users/melod/Documents/data science/Food-Systems-Policy-Research/Food Systems and General Plans/General Plan Sections/Inglewood 1 Land Use.pdf\",\n",
    "            \"C:/Users/melod/Documents/data science/Food-Systems-Policy-Research/Food Systems and General Plans/General Plan Sections/Inglewood 2 Housing.pdf\",\n",
    "            \"C:/Users/melod/Documents/data science/Food-Systems-Policy-Research/Food Systems and General Plans/General Plan Sections/Inglewood 3 Conservation.pdf\",\n",
    "           \"C:/Users/melod/Documents/data science/Food-Systems-Policy-Research/Food Systems and General Plans/General Plan Sections/Inglewood 4 Open Space.pdf\",\n",
    "           \"C:/Users/melod/Documents/data science/Food-Systems-Policy-Research/Food Systems and General Plans/General Plan Sections/Inglewood 5 Public Safety.pdf\",\n",
    "           \"C:/Users/melod/Documents/data science/Food-Systems-Policy-Research/Food Systems and General Plans/General Plan Sections/Inglewood 6 Noise.pdf\",\n",
    "           \"C:/Users/melod/Documents/data science/Food-Systems-Policy-Research/Food Systems and General Plans/General Plan Sections/Inglewood 7 EJ.pdf\"]:\n",
    "    merger.append(pdf, import_bookmarks=False) # kept getting an error otherwise\n",
    "\n",
    "# save\n",
    "merger.write(\"Inglewood.pdf\")\n",
    "merger.close()"
   ]
  },
  {
   "cell_type": "code",
   "execution_count": 41,
   "id": "c8e18fea-f1e4-4c72-872e-f46d5ae6535f",
   "metadata": {
    "tags": []
   },
   "outputs": [],
   "source": [
    "# La Canada Flintridge\n",
    "\n",
    "# initializing merge\n",
    "merger = PdfFileMerger()\n",
    "\n",
    "for pdf in [\"C:/Users/melod/Documents/data science/Food-Systems-Policy-Research/Food Systems and General Plans/General Plan Sections/La Canada Flintridge 1 Intro.pdf\",\n",
    "            \"C:/Users/melod/Documents/data science/Food-Systems-Policy-Research/Food Systems and General Plans/General Plan Sections/La Canada Flintridge 2 Land Use.pdf\",\n",
    "            \"C:/Users/melod/Documents/data science/Food-Systems-Policy-Research/Food Systems and General Plans/General Plan Sections/La Canada Flintridge 3 Open Space Recreation.pdf\",\n",
    "           \"C:/Users/melod/Documents/data science/Food-Systems-Policy-Research/Food Systems and General Plans/General Plan Sections/La Canada Flintridge 4 Conservation.pdf\",\n",
    "           \"C:/Users/melod/Documents/data science/Food-Systems-Policy-Research/Food Systems and General Plans/General Plan Sections/La Canada Flintridge 5 Safety.pdf\",\n",
    "           \"C:/Users/melod/Documents/data science/Food-Systems-Policy-Research/Food Systems and General Plans/General Plan Sections/La Canada Flintridge 7 Noise.pdf\",\n",
    "           \"C:/Users/melod/Documents/data science/Food-Systems-Policy-Research/Food Systems and General Plans/General Plan Sections/La Canada Flintridge 8 Air Quality.pdf\",\n",
    "           \"C:/Users/melod/Documents/data science/Food-Systems-Policy-Research/Food Systems and General Plans/General Plan Sections/La Canada Flintridge 9 Housing_Part1.pdf\",\n",
    "           \"C:/Users/melod/Documents/data science/Food-Systems-Policy-Research/Food Systems and General Plans/General Plan Sections/La Canada Flintridge 9 Housing_Part2.pdf\"]:\n",
    "    merger.append(pdf, import_bookmarks=False) # kept getting an error otherwise\n",
    "\n",
    "# save\n",
    "merger.write(\"La Canada Flintridge.pdf\")\n",
    "merger.close()"
   ]
  },
  {
   "cell_type": "code",
   "execution_count": 43,
   "id": "e27d1c63-ef14-48de-b8a4-92a2502ec606",
   "metadata": {
    "tags": []
   },
   "outputs": [],
   "source": [
    "# La Habra Heights\n",
    "\n",
    "# initializing merge\n",
    "merger = PdfFileMerger()\n",
    "\n",
    "for pdf in [\"C:/Users/melod/Documents/data science/Food-Systems-Policy-Research/Food Systems and General Plans/General Plan Sections/La Habra Heights_Part1.pdf\",\n",
    "            \"C:/Users/melod/Documents/data science/Food-Systems-Policy-Research/Food Systems and General Plans/General Plan Sections/La Habra Heights_Part2.pdf\"]:\n",
    "    merger.append(pdf, import_bookmarks=False) # kept getting an error otherwise\n",
    "\n",
    "# save\n",
    "merger.write(\"La Habra Heights.pdf\")\n",
    "merger.close()"
   ]
  },
  {
   "cell_type": "code",
   "execution_count": 44,
   "id": "38e417c9-ad93-4af5-8c63-347d674413de",
   "metadata": {
    "tags": []
   },
   "outputs": [],
   "source": [
    "# La Puente\n",
    "\n",
    "# initializing merge\n",
    "merger = PdfFileMerger()\n",
    "\n",
    "for pdf in [\"C:/Users/melod/Documents/data science/Food-Systems-Policy-Research/Food Systems and General Plans/General Plan Sections/La Puente 1.pdf\",\n",
    "            \"C:/Users/melod/Documents/data science/Food-Systems-Policy-Research/Food Systems and General Plans/General Plan Sections/La Puente 2 Housing.pdf\"]:\n",
    "    merger.append(pdf, import_bookmarks=False) # kept getting an error otherwise\n",
    "\n",
    "# save\n",
    "merger.write(\"La Puente.pdf\")\n",
    "merger.close()"
   ]
  },
  {
   "cell_type": "code",
   "execution_count": 45,
   "id": "0109b653-56ed-4c94-be2a-d49abd5036b2",
   "metadata": {
    "tags": []
   },
   "outputs": [],
   "source": [
    "# Lawndale\n",
    "\n",
    "# initializing merge\n",
    "merger = PdfFileMerger()\n",
    "\n",
    "for pdf in [\"C:/Users/melod/Documents/data science/Food-Systems-Policy-Research/Food Systems and General Plans/General Plan Sections/Lawndale 1 Introduction.pdf\",\n",
    "            \"C:/Users/melod/Documents/data science/Food-Systems-Policy-Research/Food Systems and General Plans/General Plan Sections/Lawndale 2 Land Use.pdf\",\n",
    "           \"C:/Users/melod/Documents/data science/Food-Systems-Policy-Research/Food Systems and General Plans/General Plan Sections/Lawndale 4 Housing_Part1.pdf\",\n",
    "           \"C:/Users/melod/Documents/data science/Food-Systems-Policy-Research/Food Systems and General Plans/General Plan Sections/Lawndale 4 Housing_Part2.pdf\",\n",
    "           \"C:/Users/melod/Documents/data science/Food-Systems-Policy-Research/Food Systems and General Plans/General Plan Sections/Lawndale 5 Economic Development.pdf\",\n",
    "            \"C:/Users/melod/Documents/data science/Food-Systems-Policy-Research/Food Systems and General Plans/General Plan Sections/Lawndale 6 Open Space.pdf\",\n",
    "            \"C:/Users/melod/Documents/data science/Food-Systems-Policy-Research/Food Systems and General Plans/General Plan Sections/Lawndale 7 Conservation.pdf\",\n",
    "            \"C:/Users/melod/Documents/data science/Food-Systems-Policy-Research/Food Systems and General Plans/General Plan Sections/Lawndale 8 Air Quality.pdf\",\n",
    "            \"C:/Users/melod/Documents/data science/Food-Systems-Policy-Research/Food Systems and General Plans/General Plan Sections/Lawndale 9 Public Safety.pdf\",\n",
    "            \"C:/Users/melod/Documents/data science/Food-Systems-Policy-Research/Food Systems and General Plans/General Plan Sections/Lawndale 10 Noise.pdf\"]:\n",
    "    merger.append(pdf, import_bookmarks=False) # kept getting an error otherwise\n",
    "\n",
    "# save\n",
    "merger.write(\"Lawndale.pdf\")\n",
    "merger.close()"
   ]
  },
  {
   "cell_type": "code",
   "execution_count": 46,
   "id": "2e9a1ba7-4a26-46f0-ab80-6f4909840342",
   "metadata": {
    "tags": []
   },
   "outputs": [],
   "source": [
    "# Lomita\n",
    "\n",
    "# initializing merge\n",
    "merger = PdfFileMerger()\n",
    "\n",
    "for pdf in [\"C:/Users/melod/Documents/data science/Food-Systems-Policy-Research/Food Systems and General Plans/General Plan Sections/Lomita 1 Introduction.pdf\",\n",
    "            \"C:/Users/melod/Documents/data science/Food-Systems-Policy-Research/Food Systems and General Plans/General Plan Sections/Lomita 2 Land Use.pdf\",\n",
    "           \"C:/Users/melod/Documents/data science/Food-Systems-Policy-Research/Food Systems and General Plans/General Plan Sections/Lomita 4 Housing.pdf\",\n",
    "           \"C:/Users/melod/Documents/data science/Food-Systems-Policy-Research/Food Systems and General Plans/General Plan Sections/Lomita 5 Open Space Conservation.pdf\",\n",
    "            \"C:/Users/melod/Documents/data science/Food-Systems-Policy-Research/Food Systems and General Plans/General Plan Sections/Lomita 6 Public Safety.pdf\",\n",
    "            \"C:/Users/melod/Documents/data science/Food-Systems-Policy-Research/Food Systems and General Plans/General Plan Sections/Lomita 7 Noise.pdf\",\n",
    "            \"C:/Users/melod/Documents/data science/Food-Systems-Policy-Research/Food Systems and General Plans/General Plan Sections/Lomita 8 Economic Development.pdf\"]:\n",
    "    merger.append(pdf, import_bookmarks=False) # kept getting an error otherwise\n",
    "\n",
    "# save\n",
    "merger.write(\"Lomita.pdf\")\n",
    "merger.close()"
   ]
  },
  {
   "cell_type": "code",
   "execution_count": 47,
   "id": "e4419c7e-53f6-4bc0-8eca-9055e0413870",
   "metadata": {
    "tags": []
   },
   "outputs": [
    {
     "name": "stderr",
     "output_type": "stream",
     "text": [
      "Xref table not zero-indexed. ID numbers for objects will be corrected.\n",
      "Xref table not zero-indexed. ID numbers for objects will be corrected.\n",
      "Xref table not zero-indexed. ID numbers for objects will be corrected.\n"
     ]
    }
   ],
   "source": [
    "# Long Beach\n",
    "\n",
    "# initializing merge\n",
    "merger = PdfFileMerger()\n",
    "\n",
    "for pdf in [\"C:/Users/melod/Documents/data science/Food-Systems-Policy-Research/Food Systems and General Plans/General Plan Sections/Long Beach 1 Character.pdf\",\n",
    "            \"C:/Users/melod/Documents/data science/Food-Systems-Policy-Research/Food Systems and General Plans/General Plan Sections/Long Beach 2 Land Use_Part1.pdf\",\n",
    "           \"C:/Users/melod/Documents/data science/Food-Systems-Policy-Research/Food Systems and General Plans/General Plan Sections/Long Beach 2 Land Use_Part2.pdf\",\n",
    "           \"C:/Users/melod/Documents/data science/Food-Systems-Policy-Research/Food Systems and General Plans/General Plan Sections/Long Beach 3 Housing.pdf\",\n",
    "            \"C:/Users/melod/Documents/data science/Food-Systems-Policy-Research/Food Systems and General Plans/General Plan Sections/Long Beach 4 Conservation.pdf\",\n",
    "            \"C:/Users/melod/Documents/data science/Food-Systems-Policy-Research/Food Systems and General Plans/General Plan Sections/Long Beach 5 Open Space Recreation.pdf\",\n",
    "            \"C:/Users/melod/Documents/data science/Food-Systems-Policy-Research/Food Systems and General Plans/General Plan Sections/Long Beach 6 Noise.pdf\",\n",
    "           \"C:/Users/melod/Documents/data science/Food-Systems-Policy-Research/Food Systems and General Plans/General Plan Sections/Long Beach 7 Air Quality_Part1.pdf\",\n",
    "           \"C:/Users/melod/Documents/data science/Food-Systems-Policy-Research/Food Systems and General Plans/General Plan Sections/Long Beach 7 Air Quality_Part2.pdf\",\n",
    "           \"C:/Users/melod/Documents/data science/Food-Systems-Policy-Research/Food Systems and General Plans/General Plan Sections/Long Beach 9 Public Safety.pdf\",\n",
    "           \"C:/Users/melod/Documents/data science/Food-Systems-Policy-Research/Food Systems and General Plans/General Plan Sections/Long Beach 10 Design sans maps_Part1.pdf\",\n",
    "           \"C:/Users/melod/Documents/data science/Food-Systems-Policy-Research/Food Systems and General Plans/General Plan Sections/Long Beach 10 Design sans maps_Part2.pdf\",\n",
    "           \"C:/Users/melod/Documents/data science/Food-Systems-Policy-Research/Food Systems and General Plans/General Plan Sections/Long Beach 10 Design sans maps_Part3.pdf\",\n",
    "           \"C:/Users/melod/Documents/data science/Food-Systems-Policy-Research/Food Systems and General Plans/General Plan Sections/Long Beach 10 Design sans maps_Part4.pdf\"]:\n",
    "    merger.append(pdf, import_bookmarks=False) # kept getting an error otherwise\n",
    "\n",
    "# save\n",
    "merger.write(\"Long Beach.pdf\")\n",
    "merger.close()"
   ]
  },
  {
   "cell_type": "code",
   "execution_count": 47,
   "id": "4be14376-8a1a-4597-a07d-9acd034e5981",
   "metadata": {
    "tags": []
   },
   "outputs": [
    {
     "name": "stderr",
     "output_type": "stream",
     "text": [
      "Xref table not zero-indexed. ID numbers for objects will be corrected.\n",
      "Xref table not zero-indexed. ID numbers for objects will be corrected.\n",
      "Xref table not zero-indexed. ID numbers for objects will be corrected.\n"
     ]
    }
   ],
   "source": [
    "# Manhattan Beach\n",
    "\n",
    "# initializing merge\n",
    "merger = PdfFileMerger()\n",
    "\n",
    "for pdf in [\"C:/Users/melod/Documents/data science/Food-Systems-Policy-Research/Food Systems and General Plans/General Plan Sections/Long Beach 1 Character.pdf\",\n",
    "            \"C:/Users/melod/Documents/data science/Food-Systems-Policy-Research/Food Systems and General Plans/General Plan Sections/Long Beach 2 Land Use_Part1.pdf\",\n",
    "           \"C:/Users/melod/Documents/data science/Food-Systems-Policy-Research/Food Systems and General Plans/General Plan Sections/Long Beach 2 Land Use_Part2.pdf\",\n",
    "           \"C:/Users/melod/Documents/data science/Food-Systems-Policy-Research/Food Systems and General Plans/General Plan Sections/Long Beach 3 Housing.pdf\",\n",
    "            \"C:/Users/melod/Documents/data science/Food-Systems-Policy-Research/Food Systems and General Plans/General Plan Sections/Long Beach 4 Conservation.pdf\",\n",
    "            \"C:/Users/melod/Documents/data science/Food-Systems-Policy-Research/Food Systems and General Plans/General Plan Sections/Long Beach 5 Open Space Recreation.pdf\",\n",
    "            \"C:/Users/melod/Documents/data science/Food-Systems-Policy-Research/Food Systems and General Plans/General Plan Sections/Long Beach 6 Noise.pdf\",\n",
    "           \"C:/Users/melod/Documents/data science/Food-Systems-Policy-Research/Food Systems and General Plans/General Plan Sections/Long Beach 7 Air Quality_Part1.pdf\",\n",
    "           \"C:/Users/melod/Documents/data science/Food-Systems-Policy-Research/Food Systems and General Plans/General Plan Sections/Long Beach 7 Air Quality_Part2.pdf\",\n",
    "           \"C:/Users/melod/Documents/data science/Food-Systems-Policy-Research/Food Systems and General Plans/General Plan Sections/Long Beach 9 Public Safety.pdf\",\n",
    "           \"C:/Users/melod/Documents/data science/Food-Systems-Policy-Research/Food Systems and General Plans/General Plan Sections/Long Beach 10 Design sans maps_Part1.pdf\",\n",
    "           \"C:/Users/melod/Documents/data science/Food-Systems-Policy-Research/Food Systems and General Plans/General Plan Sections/Long Beach 10 Design sans maps_Part2.pdf\",\n",
    "           \"C:/Users/melod/Documents/data science/Food-Systems-Policy-Research/Food Systems and General Plans/General Plan Sections/Long Beach 10 Design sans maps_Part3.pdf\",\n",
    "           \"C:/Users/melod/Documents/data science/Food-Systems-Policy-Research/Food Systems and General Plans/General Plan Sections/Long Beach 10 Design sans maps_Part4.pdf\"]:\n",
    "    merger.append(pdf, import_bookmarks=False) # kept getting an error otherwise\n",
    "\n",
    "# save\n",
    "merger.write(\"Manhattan Beach.pdf\")\n",
    "merger.close()"
   ]
  },
  {
   "cell_type": "code",
   "execution_count": null,
   "id": "dd70e593-ec96-4eae-b1ce-2b79f4c23aa4",
   "metadata": {},
   "outputs": [],
   "source": []
  }
 ],
 "metadata": {
  "kernelspec": {
   "display_name": "Python 3 (ipykernel)",
   "language": "python",
   "name": "python3"
  },
  "language_info": {
   "codemirror_mode": {
    "name": "ipython",
    "version": 3
   },
   "file_extension": ".py",
   "mimetype": "text/x-python",
   "name": "python",
   "nbconvert_exporter": "python",
   "pygments_lexer": "ipython3",
   "version": "3.9.16"
  }
 },
 "nbformat": 4,
 "nbformat_minor": 5
}
